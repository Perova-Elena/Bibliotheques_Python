{
 "cells": [
  {
   "cell_type": "markdown",
   "id": "0f7e8146",
   "metadata": {},
   "source": [
    "# Сначала подгружаем все необходимые библиотеки, функции и классы"
   ]
  },
  {
   "cell_type": "code",
   "execution_count": 4999,
   "id": "06453a9d",
   "metadata": {},
   "outputs": [],
   "source": [
    "import numpy as np\n",
    "import pandas as pd\n",
    "import random\n",
    "\n",
    "from sklearn.model_selection import train_test_split, cross_val_score # Функция для разделения данных на части (train_test_split)\n",
    "from sklearn.preprocessing import StandardScaler, RobustScaler # Классы для масштабирования данных\n",
    "from sklearn.ensemble import RandomForestRegressor # Класс для создания модели Случайный Лес\n",
    "from sklearn.metrics import r2_score as r2  # Функция для подсчета точности модели\n",
    "from sklearn.model_selection import KFold, GridSearchCV\n",
    "\n",
    "from datetime import datetime \n",
    "\n",
    "import matplotlib # Импорт библиотеки визуализаций\n",
    "import matplotlib.pyplot as plt # Импорт модуля печати графиков из библиотеки matplotlib\n",
    "import seaborn as sns # Еще один модуль для печати графиков (на курсе не изучался)\n",
    "%matplotlib inline "
   ]
  },
  {
   "cell_type": "markdown",
   "id": "69c2b026",
   "metadata": {},
   "source": [
    "# Исключаем предупреждения"
   ]
  },
  {
   "cell_type": "code",
   "execution_count": 5000,
   "id": "7f9c5dcb",
   "metadata": {},
   "outputs": [],
   "source": [
    "import warnings\n",
    "warnings.filterwarnings('ignore')"
   ]
  },
  {
   "cell_type": "markdown",
   "id": "f38fba5e",
   "metadata": {},
   "source": [
    "#  Устанавливаем одинаковый шрифт"
   ]
  },
  {
   "cell_type": "code",
   "execution_count": 5001,
   "id": "c4241a5e",
   "metadata": {},
   "outputs": [],
   "source": [
    "matplotlib.rcParams.update({'font.size': 14})"
   ]
  },
  {
   "cell_type": "markdown",
   "id": "31c5cad7",
   "metadata": {},
   "source": [
    "# Функция для подсчета метрик и 2 графика - сравнение предсказаний с истинными значениями"
   ]
  },
  {
   "cell_type": "code",
   "execution_count": 5002,
   "id": "7f6cee72",
   "metadata": {},
   "outputs": [],
   "source": [
    "def evaluate_preds(train_true_values, train_pred_values, test_true_values, test_pred_values):\n",
    "    print(\"Train R2:\\t\" + str(round(r2(train_true_values, train_pred_values), 3))) # Расчет метрики R2 на тренировочных данных\n",
    "    print(\"Test R2:\\t\" + str(round(r2(test_true_values, test_pred_values), 3))) # Расчет метрики R2 на тестовых данных\n",
    "    \n",
    "    plt.figure(figsize=(18,10))  # Задаем размер графика\n",
    "    \n",
    "    plt.subplot(121)\n",
    "    sns.scatterplot(x=train_pred_values, y=train_true_values)\n",
    "    plt.xlabel('Predicted values') # Предсказанные значения\n",
    "    plt.ylabel('True values') # Истинные значения\n",
    "    plt.title('Train sample prediction')\n",
    "    \n",
    "    plt.subplot(122)\n",
    "    sns.scatterplot(x=test_pred_values, y=test_true_values)\n",
    "    plt.xlabel('Predicted values')\n",
    "    plt.ylabel('True values')\n",
    "    plt.title('Test sample prediction')\n",
    "\n",
    "    plt.show()"
   ]
  },
  {
   "cell_type": "markdown",
   "id": "8a198caf",
   "metadata": {},
   "source": [
    "# Описание датасета курсового проекта:\n",
    "\n",
    "    Id - идентификационный номер квартиры\n",
    "    DistrictId - идентификационный номер района\n",
    "    Rooms - количество комнат\n",
    "    Square - площадь\n",
    "    LifeSquare - жилая площадь\n",
    "    KitchenSquare - площадь кухни\n",
    "    Floor - этаж\n",
    "    HouseFloor - количество этажей в доме\n",
    "    HouseYear - год постройки дома\n",
    "    Ecology_1, Ecology_2, Ecology_3 - экологические показатели местности\n",
    "    Social_1, Social_2, Social_3 - социальные показатели местности\n",
    "    Healthcare_1, Helthcare_2 - показатели местности, связанные с охраной здоровья\n",
    "    Shops_1, Shops_2 - показатели, связанные с наличием магазинов, торговых центров\n",
    "    Price - цена квартиры"
   ]
  },
  {
   "cell_type": "markdown",
   "id": "9f88d18c",
   "metadata": {},
   "source": [
    "# Загрузим тренировочный датасет с сайта Kaggle"
   ]
  },
  {
   "cell_type": "code",
   "execution_count": 5003,
   "id": "39cbc0be",
   "metadata": {},
   "outputs": [
    {
     "data": {
      "text/html": [
       "<div>\n",
       "<style scoped>\n",
       "    .dataframe tbody tr th:only-of-type {\n",
       "        vertical-align: middle;\n",
       "    }\n",
       "\n",
       "    .dataframe tbody tr th {\n",
       "        vertical-align: top;\n",
       "    }\n",
       "\n",
       "    .dataframe thead th {\n",
       "        text-align: right;\n",
       "    }\n",
       "</style>\n",
       "<table border=\"1\" class=\"dataframe\">\n",
       "  <thead>\n",
       "    <tr style=\"text-align: right;\">\n",
       "      <th></th>\n",
       "      <th>Id</th>\n",
       "      <th>DistrictId</th>\n",
       "      <th>Rooms</th>\n",
       "      <th>Square</th>\n",
       "      <th>LifeSquare</th>\n",
       "      <th>KitchenSquare</th>\n",
       "      <th>Floor</th>\n",
       "      <th>HouseFloor</th>\n",
       "      <th>HouseYear</th>\n",
       "      <th>Ecology_1</th>\n",
       "      <th>Ecology_2</th>\n",
       "      <th>Ecology_3</th>\n",
       "      <th>Social_1</th>\n",
       "      <th>Social_2</th>\n",
       "      <th>Social_3</th>\n",
       "      <th>Healthcare_1</th>\n",
       "      <th>Helthcare_2</th>\n",
       "      <th>Shops_1</th>\n",
       "      <th>Shops_2</th>\n",
       "      <th>Price</th>\n",
       "    </tr>\n",
       "  </thead>\n",
       "  <tbody>\n",
       "    <tr>\n",
       "      <th>9995</th>\n",
       "      <td>1260</td>\n",
       "      <td>61</td>\n",
       "      <td>2.0</td>\n",
       "      <td>49.090728</td>\n",
       "      <td>33.272626</td>\n",
       "      <td>6.0</td>\n",
       "      <td>3</td>\n",
       "      <td>12.0</td>\n",
       "      <td>1981</td>\n",
       "      <td>0.300323</td>\n",
       "      <td>B</td>\n",
       "      <td>B</td>\n",
       "      <td>52</td>\n",
       "      <td>10311</td>\n",
       "      <td>6</td>\n",
       "      <td>NaN</td>\n",
       "      <td>1</td>\n",
       "      <td>9</td>\n",
       "      <td>B</td>\n",
       "      <td>119367.455796</td>\n",
       "    </tr>\n",
       "    <tr>\n",
       "      <th>9996</th>\n",
       "      <td>16265</td>\n",
       "      <td>27</td>\n",
       "      <td>2.0</td>\n",
       "      <td>64.307684</td>\n",
       "      <td>37.038420</td>\n",
       "      <td>9.0</td>\n",
       "      <td>13</td>\n",
       "      <td>0.0</td>\n",
       "      <td>1977</td>\n",
       "      <td>0.072158</td>\n",
       "      <td>B</td>\n",
       "      <td>B</td>\n",
       "      <td>2</td>\n",
       "      <td>629</td>\n",
       "      <td>1</td>\n",
       "      <td>NaN</td>\n",
       "      <td>0</td>\n",
       "      <td>0</td>\n",
       "      <td>A</td>\n",
       "      <td>199715.148807</td>\n",
       "    </tr>\n",
       "    <tr>\n",
       "      <th>9997</th>\n",
       "      <td>2795</td>\n",
       "      <td>178</td>\n",
       "      <td>1.0</td>\n",
       "      <td>29.648057</td>\n",
       "      <td>16.555363</td>\n",
       "      <td>5.0</td>\n",
       "      <td>3</td>\n",
       "      <td>5.0</td>\n",
       "      <td>1958</td>\n",
       "      <td>0.460556</td>\n",
       "      <td>B</td>\n",
       "      <td>B</td>\n",
       "      <td>20</td>\n",
       "      <td>4386</td>\n",
       "      <td>14</td>\n",
       "      <td>NaN</td>\n",
       "      <td>1</td>\n",
       "      <td>5</td>\n",
       "      <td>B</td>\n",
       "      <td>165953.912580</td>\n",
       "    </tr>\n",
       "    <tr>\n",
       "      <th>9998</th>\n",
       "      <td>14561</td>\n",
       "      <td>21</td>\n",
       "      <td>1.0</td>\n",
       "      <td>32.330292</td>\n",
       "      <td>22.326870</td>\n",
       "      <td>5.0</td>\n",
       "      <td>3</td>\n",
       "      <td>9.0</td>\n",
       "      <td>1969</td>\n",
       "      <td>0.194489</td>\n",
       "      <td>B</td>\n",
       "      <td>B</td>\n",
       "      <td>47</td>\n",
       "      <td>8004</td>\n",
       "      <td>3</td>\n",
       "      <td>125.0</td>\n",
       "      <td>3</td>\n",
       "      <td>5</td>\n",
       "      <td>B</td>\n",
       "      <td>171842.411855</td>\n",
       "    </tr>\n",
       "    <tr>\n",
       "      <th>9999</th>\n",
       "      <td>7202</td>\n",
       "      <td>94</td>\n",
       "      <td>1.0</td>\n",
       "      <td>35.815476</td>\n",
       "      <td>22.301367</td>\n",
       "      <td>6.0</td>\n",
       "      <td>9</td>\n",
       "      <td>9.0</td>\n",
       "      <td>1975</td>\n",
       "      <td>0.127376</td>\n",
       "      <td>B</td>\n",
       "      <td>B</td>\n",
       "      <td>43</td>\n",
       "      <td>8429</td>\n",
       "      <td>3</td>\n",
       "      <td>NaN</td>\n",
       "      <td>3</td>\n",
       "      <td>9</td>\n",
       "      <td>B</td>\n",
       "      <td>177685.627486</td>\n",
       "    </tr>\n",
       "  </tbody>\n",
       "</table>\n",
       "</div>"
      ],
      "text/plain": [
       "         Id  DistrictId  Rooms     Square  LifeSquare  KitchenSquare  Floor  \\\n",
       "9995   1260          61    2.0  49.090728   33.272626            6.0      3   \n",
       "9996  16265          27    2.0  64.307684   37.038420            9.0     13   \n",
       "9997   2795         178    1.0  29.648057   16.555363            5.0      3   \n",
       "9998  14561          21    1.0  32.330292   22.326870            5.0      3   \n",
       "9999   7202          94    1.0  35.815476   22.301367            6.0      9   \n",
       "\n",
       "      HouseFloor  HouseYear  Ecology_1 Ecology_2 Ecology_3  Social_1  \\\n",
       "9995        12.0       1981   0.300323         B         B        52   \n",
       "9996         0.0       1977   0.072158         B         B         2   \n",
       "9997         5.0       1958   0.460556         B         B        20   \n",
       "9998         9.0       1969   0.194489         B         B        47   \n",
       "9999         9.0       1975   0.127376         B         B        43   \n",
       "\n",
       "      Social_2  Social_3  Healthcare_1  Helthcare_2  Shops_1 Shops_2  \\\n",
       "9995     10311         6           NaN            1        9       B   \n",
       "9996       629         1           NaN            0        0       A   \n",
       "9997      4386        14           NaN            1        5       B   \n",
       "9998      8004         3         125.0            3        5       B   \n",
       "9999      8429         3           NaN            3        9       B   \n",
       "\n",
       "              Price  \n",
       "9995  119367.455796  \n",
       "9996  199715.148807  \n",
       "9997  165953.912580  \n",
       "9998  171842.411855  \n",
       "9999  177685.627486  "
      ]
     },
     "execution_count": 5003,
     "metadata": {},
     "output_type": "execute_result"
    }
   ],
   "source": [
    "train_df = pd.read_csv(\"train.csv\") # загрузила из своего корневого каталога\n",
    "train_df.tail() # Просмотрим файл train, его последние строки"
   ]
  },
  {
   "cell_type": "markdown",
   "id": "d462ca5b",
   "metadata": {},
   "source": [
    "# Посмотрим на типы данных файла train"
   ]
  },
  {
   "cell_type": "code",
   "execution_count": 5004,
   "id": "adf82c7c",
   "metadata": {},
   "outputs": [
    {
     "data": {
      "text/plain": [
       "Id                 int64\n",
       "DistrictId         int64\n",
       "Rooms            float64\n",
       "Square           float64\n",
       "LifeSquare       float64\n",
       "KitchenSquare    float64\n",
       "Floor              int64\n",
       "HouseFloor       float64\n",
       "HouseYear          int64\n",
       "Ecology_1        float64\n",
       "Ecology_2         object\n",
       "Ecology_3         object\n",
       "Social_1           int64\n",
       "Social_2           int64\n",
       "Social_3           int64\n",
       "Healthcare_1     float64\n",
       "Helthcare_2        int64\n",
       "Shops_1            int64\n",
       "Shops_2           object\n",
       "Price            float64\n",
       "dtype: object"
      ]
     },
     "execution_count": 5004,
     "metadata": {},
     "output_type": "execute_result"
    }
   ],
   "source": [
    "train_df.dtypes"
   ]
  },
  {
   "cell_type": "markdown",
   "id": "430f3555",
   "metadata": {},
   "source": [
    "###### Видно, что в тренировочном датасете 10000 строк и 20 столбцов. 1) тип ID квартиры указан вещественным, но это лишь имя и по нему сравнивать квартиры друг с другом нельзя. 2) Отметим, что DistristId так же кажется вещественным, но на самом деле это не так, т.к. нельзя сказать что один район хуже другого зная только его номер. Поэтому будем работать с ним как с категориальным признаком"
   ]
  },
  {
   "cell_type": "markdown",
   "id": "bb9b57e4",
   "metadata": {},
   "source": [
    "###### Вывод: Нужно создать функцию, меняющую типы данных, потому что это надо будет делать еще и для тестового датасета. Чтобы типы данных совпадали. К тому же видно, что некоторые целочисленные признаки (Rooms, HouseFloor) указаны как float64"
   ]
  },
  {
   "cell_type": "markdown",
   "id": "c525154c",
   "metadata": {},
   "source": [
    "# Загрузим тестовый датасет с сайта Kaggle"
   ]
  },
  {
   "cell_type": "code",
   "execution_count": 5005,
   "id": "c18572da",
   "metadata": {},
   "outputs": [
    {
     "data": {
      "text/html": [
       "<div>\n",
       "<style scoped>\n",
       "    .dataframe tbody tr th:only-of-type {\n",
       "        vertical-align: middle;\n",
       "    }\n",
       "\n",
       "    .dataframe tbody tr th {\n",
       "        vertical-align: top;\n",
       "    }\n",
       "\n",
       "    .dataframe thead th {\n",
       "        text-align: right;\n",
       "    }\n",
       "</style>\n",
       "<table border=\"1\" class=\"dataframe\">\n",
       "  <thead>\n",
       "    <tr style=\"text-align: right;\">\n",
       "      <th></th>\n",
       "      <th>Id</th>\n",
       "      <th>DistrictId</th>\n",
       "      <th>Rooms</th>\n",
       "      <th>Square</th>\n",
       "      <th>LifeSquare</th>\n",
       "      <th>KitchenSquare</th>\n",
       "      <th>Floor</th>\n",
       "      <th>HouseFloor</th>\n",
       "      <th>HouseYear</th>\n",
       "      <th>Ecology_1</th>\n",
       "      <th>Ecology_2</th>\n",
       "      <th>Ecology_3</th>\n",
       "      <th>Social_1</th>\n",
       "      <th>Social_2</th>\n",
       "      <th>Social_3</th>\n",
       "      <th>Healthcare_1</th>\n",
       "      <th>Helthcare_2</th>\n",
       "      <th>Shops_1</th>\n",
       "      <th>Shops_2</th>\n",
       "    </tr>\n",
       "  </thead>\n",
       "  <tbody>\n",
       "    <tr>\n",
       "      <th>4995</th>\n",
       "      <td>10379</td>\n",
       "      <td>29</td>\n",
       "      <td>2.0</td>\n",
       "      <td>43.177521</td>\n",
       "      <td>30.339945</td>\n",
       "      <td>5.0</td>\n",
       "      <td>6</td>\n",
       "      <td>5.0</td>\n",
       "      <td>1962</td>\n",
       "      <td>0.069660</td>\n",
       "      <td>B</td>\n",
       "      <td>B</td>\n",
       "      <td>31</td>\n",
       "      <td>6119</td>\n",
       "      <td>4</td>\n",
       "      <td>NaN</td>\n",
       "      <td>1</td>\n",
       "      <td>2</td>\n",
       "      <td>B</td>\n",
       "    </tr>\n",
       "    <tr>\n",
       "      <th>4996</th>\n",
       "      <td>16138</td>\n",
       "      <td>38</td>\n",
       "      <td>3.0</td>\n",
       "      <td>93.698122</td>\n",
       "      <td>94.521465</td>\n",
       "      <td>10.0</td>\n",
       "      <td>21</td>\n",
       "      <td>27.0</td>\n",
       "      <td>2018</td>\n",
       "      <td>0.060753</td>\n",
       "      <td>B</td>\n",
       "      <td>B</td>\n",
       "      <td>15</td>\n",
       "      <td>2787</td>\n",
       "      <td>2</td>\n",
       "      <td>520.0</td>\n",
       "      <td>0</td>\n",
       "      <td>7</td>\n",
       "      <td>B</td>\n",
       "    </tr>\n",
       "    <tr>\n",
       "      <th>4997</th>\n",
       "      <td>3912</td>\n",
       "      <td>101</td>\n",
       "      <td>1.0</td>\n",
       "      <td>33.656723</td>\n",
       "      <td>19.003259</td>\n",
       "      <td>5.0</td>\n",
       "      <td>2</td>\n",
       "      <td>5.0</td>\n",
       "      <td>1966</td>\n",
       "      <td>0.038693</td>\n",
       "      <td>B</td>\n",
       "      <td>B</td>\n",
       "      <td>28</td>\n",
       "      <td>6533</td>\n",
       "      <td>1</td>\n",
       "      <td>1015.0</td>\n",
       "      <td>2</td>\n",
       "      <td>5</td>\n",
       "      <td>B</td>\n",
       "    </tr>\n",
       "    <tr>\n",
       "      <th>4998</th>\n",
       "      <td>5722</td>\n",
       "      <td>10</td>\n",
       "      <td>1.0</td>\n",
       "      <td>38.635155</td>\n",
       "      <td>20.976257</td>\n",
       "      <td>9.0</td>\n",
       "      <td>8</td>\n",
       "      <td>14.0</td>\n",
       "      <td>1970</td>\n",
       "      <td>0.089040</td>\n",
       "      <td>B</td>\n",
       "      <td>B</td>\n",
       "      <td>33</td>\n",
       "      <td>7976</td>\n",
       "      <td>5</td>\n",
       "      <td>NaN</td>\n",
       "      <td>0</td>\n",
       "      <td>11</td>\n",
       "      <td>B</td>\n",
       "    </tr>\n",
       "    <tr>\n",
       "      <th>4999</th>\n",
       "      <td>11004</td>\n",
       "      <td>21</td>\n",
       "      <td>2.0</td>\n",
       "      <td>67.122742</td>\n",
       "      <td>33.944344</td>\n",
       "      <td>13.0</td>\n",
       "      <td>9</td>\n",
       "      <td>17.0</td>\n",
       "      <td>2009</td>\n",
       "      <td>0.194489</td>\n",
       "      <td>B</td>\n",
       "      <td>B</td>\n",
       "      <td>47</td>\n",
       "      <td>8004</td>\n",
       "      <td>3</td>\n",
       "      <td>125.0</td>\n",
       "      <td>3</td>\n",
       "      <td>5</td>\n",
       "      <td>B</td>\n",
       "    </tr>\n",
       "  </tbody>\n",
       "</table>\n",
       "</div>"
      ],
      "text/plain": [
       "         Id  DistrictId  Rooms     Square  LifeSquare  KitchenSquare  Floor  \\\n",
       "4995  10379          29    2.0  43.177521   30.339945            5.0      6   \n",
       "4996  16138          38    3.0  93.698122   94.521465           10.0     21   \n",
       "4997   3912         101    1.0  33.656723   19.003259            5.0      2   \n",
       "4998   5722          10    1.0  38.635155   20.976257            9.0      8   \n",
       "4999  11004          21    2.0  67.122742   33.944344           13.0      9   \n",
       "\n",
       "      HouseFloor  HouseYear  Ecology_1 Ecology_2 Ecology_3  Social_1  \\\n",
       "4995         5.0       1962   0.069660         B         B        31   \n",
       "4996        27.0       2018   0.060753         B         B        15   \n",
       "4997         5.0       1966   0.038693         B         B        28   \n",
       "4998        14.0       1970   0.089040         B         B        33   \n",
       "4999        17.0       2009   0.194489         B         B        47   \n",
       "\n",
       "      Social_2  Social_3  Healthcare_1  Helthcare_2  Shops_1 Shops_2  \n",
       "4995      6119         4           NaN            1        2       B  \n",
       "4996      2787         2         520.0            0        7       B  \n",
       "4997      6533         1        1015.0            2        5       B  \n",
       "4998      7976         5           NaN            0       11       B  \n",
       "4999      8004         3         125.0            3        5       B  "
      ]
     },
     "execution_count": 5005,
     "metadata": {},
     "output_type": "execute_result"
    }
   ],
   "source": [
    "test_df = pd.read_csv(\"test.csv\")\n",
    "test_df.tail()"
   ]
  },
  {
   "cell_type": "markdown",
   "id": "518b3987",
   "metadata": {},
   "source": [
    "###### Видно, что в тестовом датасете 5000 строк и 19 столбцов (отсутствует целевая переменная price, которую мы должны предсказать)"
   ]
  },
  {
   "cell_type": "markdown",
   "id": "cb754c42",
   "metadata": {},
   "source": [
    "# Посмотрим на типы данных файла test"
   ]
  },
  {
   "cell_type": "code",
   "execution_count": 5006,
   "id": "a6e47d31",
   "metadata": {},
   "outputs": [
    {
     "data": {
      "text/plain": [
       "Id                 int64\n",
       "DistrictId         int64\n",
       "Rooms            float64\n",
       "Square           float64\n",
       "LifeSquare       float64\n",
       "KitchenSquare    float64\n",
       "Floor              int64\n",
       "HouseFloor       float64\n",
       "HouseYear          int64\n",
       "Ecology_1        float64\n",
       "Ecology_2         object\n",
       "Ecology_3         object\n",
       "Social_1           int64\n",
       "Social_2           int64\n",
       "Social_3           int64\n",
       "Healthcare_1     float64\n",
       "Helthcare_2        int64\n",
       "Shops_1            int64\n",
       "Shops_2           object\n",
       "dtype: object"
      ]
     },
     "execution_count": 5006,
     "metadata": {},
     "output_type": "execute_result"
    }
   ],
   "source": [
    "test_df.dtypes"
   ]
  },
  {
   "cell_type": "markdown",
   "id": "15689f6d",
   "metadata": {},
   "source": [
    "###### Видим, что они совпадают с типами на train, и некоторые так же нуждаются в замене"
   ]
  },
  {
   "cell_type": "markdown",
   "id": "f779922f",
   "metadata": {},
   "source": [
    "# Приведем типы в нужный вид (создадим функцию, меняющую типы данных)"
   ]
  },
  {
   "cell_type": "code",
   "execution_count": 5007,
   "id": "eac40bdf",
   "metadata": {},
   "outputs": [],
   "source": [
    "def types_optimizing(df):\n",
    "    df['Id'] = df['Id'].astype(str)\n",
    "    df['DistrictId'] = df['DistrictId'].astype(str)\n",
    "    df['Rooms'] = df['Rooms'].astype(int)\n",
    "    df['HouseFloor'] = df['HouseFloor'].astype(int)\n",
    "    \n",
    "    return df"
   ]
  },
  {
   "cell_type": "markdown",
   "id": "d729e0a9",
   "metadata": {},
   "source": [
    "# Применим функцию оптимизации типов к нашим данным"
   ]
  },
  {
   "cell_type": "code",
   "execution_count": 5008,
   "id": "07600a43",
   "metadata": {},
   "outputs": [],
   "source": [
    "train_df = types_optimizing(train_df)\n",
    "test_df = types_optimizing(test_df)"
   ]
  },
  {
   "cell_type": "markdown",
   "id": "55878bcf",
   "metadata": {},
   "source": [
    "# Проверим как поменялись типы данных"
   ]
  },
  {
   "cell_type": "code",
   "execution_count": 5009,
   "id": "fccc5f51",
   "metadata": {},
   "outputs": [
    {
     "data": {
      "text/plain": [
       "Id                object\n",
       "DistrictId        object\n",
       "Rooms              int32\n",
       "Square           float64\n",
       "LifeSquare       float64\n",
       "KitchenSquare    float64\n",
       "Floor              int64\n",
       "HouseFloor         int32\n",
       "HouseYear          int64\n",
       "Ecology_1        float64\n",
       "Ecology_2         object\n",
       "Ecology_3         object\n",
       "Social_1           int64\n",
       "Social_2           int64\n",
       "Social_3           int64\n",
       "Healthcare_1     float64\n",
       "Helthcare_2        int64\n",
       "Shops_1            int64\n",
       "Shops_2           object\n",
       "Price            float64\n",
       "dtype: object"
      ]
     },
     "execution_count": 5009,
     "metadata": {},
     "output_type": "execute_result"
    }
   ],
   "source": [
    "train_df.dtypes"
   ]
  },
  {
   "cell_type": "code",
   "execution_count": 5010,
   "id": "0b978fd7",
   "metadata": {},
   "outputs": [
    {
     "data": {
      "text/plain": [
       "Id                object\n",
       "DistrictId        object\n",
       "Rooms              int32\n",
       "Square           float64\n",
       "LifeSquare       float64\n",
       "KitchenSquare    float64\n",
       "Floor              int64\n",
       "HouseFloor         int32\n",
       "HouseYear          int64\n",
       "Ecology_1        float64\n",
       "Ecology_2         object\n",
       "Ecology_3         object\n",
       "Social_1           int64\n",
       "Social_2           int64\n",
       "Social_3           int64\n",
       "Healthcare_1     float64\n",
       "Helthcare_2        int64\n",
       "Shops_1            int64\n",
       "Shops_2           object\n",
       "dtype: object"
      ]
     },
     "execution_count": 5010,
     "metadata": {},
     "output_type": "execute_result"
    }
   ],
   "source": [
    "test_df.dtypes"
   ]
  },
  {
   "cell_type": "markdown",
   "id": "f4e543d4",
   "metadata": {},
   "source": [
    "# 1. Проведем EDA (exploratory data analysis) с целью:\n",
    "- Найти выбросы\n",
    "- Найти пропуски\n",
    "- Найти идеи для новых фич (признаков)"
   ]
  },
  {
   "cell_type": "markdown",
   "id": "7b655697",
   "metadata": {},
   "source": [
    "EDA включает 3 шага (изучение целевой переменной, изучение признаков отдельно от целевой переменной, посмотреть как признаки влияют на целевое значение)"
   ]
  },
  {
   "cell_type": "markdown",
   "id": "0410a0cd",
   "metadata": {},
   "source": [
    "# Изучим целевую переменную"
   ]
  },
  {
   "cell_type": "code",
   "execution_count": 5011,
   "id": "968eafdf",
   "metadata": {},
   "outputs": [
    {
     "data": {
      "image/png": "[encoded data removed]",
      "text/plain": [
       "<Figure size 1152x576 with 1 Axes>"
      ]
     },
     "metadata": {
      "needs_background": "light"
     },
     "output_type": "display_data"
    }
   ],
   "source": [
    "plt.figure(figsize = (16, 8))\n",
    "\n",
    "train_df['Price'].hist(bins=30)\n",
    "plt.ylabel('Количество квартир по данному диапазону цены')\n",
    "plt.xlabel('Price')\n",
    "\n",
    "plt.title('Распределение целевой переменной')\n",
    "plt.show()"
   ]
  },
  {
   "cell_type": "markdown",
   "id": "65753487",
   "metadata": {},
   "source": [
    "###### Видим, что распределение цены вполне правдоподобное, значит делать с ней ничего не будем."
   ]
  },
  {
   "cell_type": "markdown",
   "id": "8fe7ed93",
   "metadata": {},
   "source": [
    "# Изучим признаки"
   ]
  },
  {
   "cell_type": "markdown",
   "id": "7e53d990",
   "metadata": {},
   "source": [
    "#### - Вещественные признаки "
   ]
  },
  {
   "cell_type": "code",
   "execution_count": 5012,
   "id": "6c796257",
   "metadata": {},
   "outputs": [
    {
     "data": {
      "text/html": [
       "<div>\n",
       "<style scoped>\n",
       "    .dataframe tbody tr th:only-of-type {\n",
       "        vertical-align: middle;\n",
       "    }\n",
       "\n",
       "    .dataframe tbody tr th {\n",
       "        vertical-align: top;\n",
       "    }\n",
       "\n",
       "    .dataframe thead th {\n",
       "        text-align: right;\n",
       "    }\n",
       "</style>\n",
       "<table border=\"1\" class=\"dataframe\">\n",
       "  <thead>\n",
       "    <tr style=\"text-align: right;\">\n",
       "      <th></th>\n",
       "      <th>Rooms</th>\n",
       "      <th>Square</th>\n",
       "      <th>LifeSquare</th>\n",
       "      <th>KitchenSquare</th>\n",
       "      <th>Floor</th>\n",
       "      <th>HouseFloor</th>\n",
       "      <th>HouseYear</th>\n",
       "      <th>Ecology_1</th>\n",
       "      <th>Social_1</th>\n",
       "      <th>Social_2</th>\n",
       "      <th>Social_3</th>\n",
       "      <th>Healthcare_1</th>\n",
       "      <th>Helthcare_2</th>\n",
       "      <th>Shops_1</th>\n",
       "      <th>Price</th>\n",
       "    </tr>\n",
       "  </thead>\n",
       "  <tbody>\n",
       "    <tr>\n",
       "      <th>count</th>\n",
       "      <td>10000.000000</td>\n",
       "      <td>10000.000000</td>\n",
       "      <td>7887.000000</td>\n",
       "      <td>10000.000000</td>\n",
       "      <td>10000.000000</td>\n",
       "      <td>10000.000000</td>\n",
       "      <td>1.000000e+04</td>\n",
       "      <td>10000.000000</td>\n",
       "      <td>10000.000000</td>\n",
       "      <td>10000.000000</td>\n",
       "      <td>10000.000000</td>\n",
       "      <td>5202.000000</td>\n",
       "      <td>10000.000000</td>\n",
       "      <td>10000.000000</td>\n",
       "      <td>10000.000000</td>\n",
       "    </tr>\n",
       "    <tr>\n",
       "      <th>mean</th>\n",
       "      <td>1.890500</td>\n",
       "      <td>56.315775</td>\n",
       "      <td>37.199645</td>\n",
       "      <td>6.273300</td>\n",
       "      <td>8.526700</td>\n",
       "      <td>12.609400</td>\n",
       "      <td>3.990166e+03</td>\n",
       "      <td>0.118858</td>\n",
       "      <td>24.687000</td>\n",
       "      <td>5352.157400</td>\n",
       "      <td>8.039200</td>\n",
       "      <td>1142.904460</td>\n",
       "      <td>1.319500</td>\n",
       "      <td>4.231300</td>\n",
       "      <td>214138.857399</td>\n",
       "    </tr>\n",
       "    <tr>\n",
       "      <th>std</th>\n",
       "      <td>0.839512</td>\n",
       "      <td>21.058732</td>\n",
       "      <td>86.241209</td>\n",
       "      <td>28.560917</td>\n",
       "      <td>5.241148</td>\n",
       "      <td>6.775974</td>\n",
       "      <td>2.005003e+05</td>\n",
       "      <td>0.119025</td>\n",
       "      <td>17.532614</td>\n",
       "      <td>4006.799803</td>\n",
       "      <td>23.831875</td>\n",
       "      <td>1021.517264</td>\n",
       "      <td>1.493601</td>\n",
       "      <td>4.806341</td>\n",
       "      <td>92872.293865</td>\n",
       "    </tr>\n",
       "    <tr>\n",
       "      <th>min</th>\n",
       "      <td>0.000000</td>\n",
       "      <td>1.136859</td>\n",
       "      <td>0.370619</td>\n",
       "      <td>0.000000</td>\n",
       "      <td>1.000000</td>\n",
       "      <td>0.000000</td>\n",
       "      <td>1.910000e+03</td>\n",
       "      <td>0.000000</td>\n",
       "      <td>0.000000</td>\n",
       "      <td>168.000000</td>\n",
       "      <td>0.000000</td>\n",
       "      <td>0.000000</td>\n",
       "      <td>0.000000</td>\n",
       "      <td>0.000000</td>\n",
       "      <td>59174.778028</td>\n",
       "    </tr>\n",
       "    <tr>\n",
       "      <th>25%</th>\n",
       "      <td>1.000000</td>\n",
       "      <td>41.774881</td>\n",
       "      <td>22.769832</td>\n",
       "      <td>1.000000</td>\n",
       "      <td>4.000000</td>\n",
       "      <td>9.000000</td>\n",
       "      <td>1.974000e+03</td>\n",
       "      <td>0.017647</td>\n",
       "      <td>6.000000</td>\n",
       "      <td>1564.000000</td>\n",
       "      <td>0.000000</td>\n",
       "      <td>350.000000</td>\n",
       "      <td>0.000000</td>\n",
       "      <td>1.000000</td>\n",
       "      <td>153872.633942</td>\n",
       "    </tr>\n",
       "    <tr>\n",
       "      <th>50%</th>\n",
       "      <td>2.000000</td>\n",
       "      <td>52.513310</td>\n",
       "      <td>32.781260</td>\n",
       "      <td>6.000000</td>\n",
       "      <td>7.000000</td>\n",
       "      <td>13.000000</td>\n",
       "      <td>1.977000e+03</td>\n",
       "      <td>0.075424</td>\n",
       "      <td>25.000000</td>\n",
       "      <td>5285.000000</td>\n",
       "      <td>2.000000</td>\n",
       "      <td>900.000000</td>\n",
       "      <td>1.000000</td>\n",
       "      <td>3.000000</td>\n",
       "      <td>192269.644879</td>\n",
       "    </tr>\n",
       "    <tr>\n",
       "      <th>75%</th>\n",
       "      <td>2.000000</td>\n",
       "      <td>65.900625</td>\n",
       "      <td>45.128803</td>\n",
       "      <td>9.000000</td>\n",
       "      <td>12.000000</td>\n",
       "      <td>17.000000</td>\n",
       "      <td>2.001000e+03</td>\n",
       "      <td>0.195781</td>\n",
       "      <td>36.000000</td>\n",
       "      <td>7227.000000</td>\n",
       "      <td>5.000000</td>\n",
       "      <td>1548.000000</td>\n",
       "      <td>2.000000</td>\n",
       "      <td>6.000000</td>\n",
       "      <td>249135.462171</td>\n",
       "    </tr>\n",
       "    <tr>\n",
       "      <th>max</th>\n",
       "      <td>19.000000</td>\n",
       "      <td>641.065193</td>\n",
       "      <td>7480.592129</td>\n",
       "      <td>2014.000000</td>\n",
       "      <td>42.000000</td>\n",
       "      <td>117.000000</td>\n",
       "      <td>2.005201e+07</td>\n",
       "      <td>0.521867</td>\n",
       "      <td>74.000000</td>\n",
       "      <td>19083.000000</td>\n",
       "      <td>141.000000</td>\n",
       "      <td>4849.000000</td>\n",
       "      <td>6.000000</td>\n",
       "      <td>23.000000</td>\n",
       "      <td>633233.466570</td>\n",
       "    </tr>\n",
       "  </tbody>\n",
       "</table>\n",
       "</div>"
      ],
      "text/plain": [
       "              Rooms        Square   LifeSquare  KitchenSquare         Floor  \\\n",
       "count  10000.000000  10000.000000  7887.000000   10000.000000  10000.000000   \n",
       "mean       1.890500     56.315775    37.199645       6.273300      8.526700   \n",
       "std        0.839512     21.058732    86.241209      28.560917      5.241148   \n",
       "min        0.000000      1.136859     0.370619       0.000000      1.000000   \n",
       "25%        1.000000     41.774881    22.769832       1.000000      4.000000   \n",
       "50%        2.000000     52.513310    32.781260       6.000000      7.000000   \n",
       "75%        2.000000     65.900625    45.128803       9.000000     12.000000   \n",
       "max       19.000000    641.065193  7480.592129    2014.000000     42.000000   \n",
       "\n",
       "         HouseFloor     HouseYear     Ecology_1      Social_1      Social_2  \\\n",
       "count  10000.000000  1.000000e+04  10000.000000  10000.000000  10000.000000   \n",
       "mean      12.609400  3.990166e+03      0.118858     24.687000   5352.157400   \n",
       "std        6.775974  2.005003e+05      0.119025     17.532614   4006.799803   \n",
       "min        0.000000  1.910000e+03      0.000000      0.000000    168.000000   \n",
       "25%        9.000000  1.974000e+03      0.017647      6.000000   1564.000000   \n",
       "50%       13.000000  1.977000e+03      0.075424     25.000000   5285.000000   \n",
       "75%       17.000000  2.001000e+03      0.195781     36.000000   7227.000000   \n",
       "max      117.000000  2.005201e+07      0.521867     74.000000  19083.000000   \n",
       "\n",
       "           Social_3  Healthcare_1   Helthcare_2       Shops_1          Price  \n",
       "count  10000.000000   5202.000000  10000.000000  10000.000000   10000.000000  \n",
       "mean       8.039200   1142.904460      1.319500      4.231300  214138.857399  \n",
       "std       23.831875   1021.517264      1.493601      4.806341   92872.293865  \n",
       "min        0.000000      0.000000      0.000000      0.000000   59174.778028  \n",
       "25%        0.000000    350.000000      0.000000      1.000000  153872.633942  \n",
       "50%        2.000000    900.000000      1.000000      3.000000  192269.644879  \n",
       "75%        5.000000   1548.000000      2.000000      6.000000  249135.462171  \n",
       "max      141.000000   4849.000000      6.000000     23.000000  633233.466570  "
      ]
     },
     "execution_count": 5012,
     "metadata": {},
     "output_type": "execute_result"
    }
   ],
   "source": [
    "train_df.describe()"
   ]
  },
  {
   "cell_type": "markdown",
   "id": "c2c8f2b6",
   "metadata": {},
   "source": [
    "#### Смотрим на основные статистики, ищем признаки, где есть странности: 1)min и max значения, что может говорить о наличии некорректных данных 2) большую разницу в mean и mediana, что может говорить о выбросах\n",
    "   - Rooms: 1) есть 0 комнат и целых 19\n",
    "   - Square: 1) кто-то живет на 1 м.кв, а кто-то на 641 м.кв)\n",
    "   - LifeSquare: 1) кто-то живет на 0,3 кв.м, а кто-то на 7480 м.кв)\n",
    "   - KitchenSquare: 1) есть кухня 0 кв.м[но такое может быть в студиях], а есть 2014 м.кв\n",
    "   - HouseFloor: 1) есть 0-вая этажность дома\n",
    "   - HouseYear: 1) видим аномальное среднее значение, и есть год постройки 8-значный,а должен быть 4-значный\n",
    "   - Social_3 : 2) видим большую разницу в 4 раза между средним и медианой\n",
    "   "
   ]
  },
  {
   "cell_type": "markdown",
   "id": "f80d9c10",
   "metadata": {},
   "source": [
    "#### - Номинативные признаки (помним о том, что категориальные признаки надо переводить в вещественные, чтобы они играли роль для моделей)"
   ]
  },
  {
   "cell_type": "code",
   "execution_count": 5013,
   "id": "fc71151a",
   "metadata": {},
   "outputs": [
    {
     "data": {
      "text/plain": [
       "['Id', 'DistrictId', 'Ecology_2', 'Ecology_3', 'Shops_2']"
      ]
     },
     "execution_count": 5013,
     "metadata": {},
     "output_type": "execute_result"
    }
   ],
   "source": [
    "train_df.select_dtypes(include='object').columns.tolist() # Посмотреть какие признаки номинативные"
   ]
  },
  {
   "cell_type": "markdown",
   "id": "fe1815f1",
   "metadata": {},
   "source": [
    "###### Посмотрим сколько разных районов есть в датасете и какое количество квартир в каждом из них:"
   ]
  },
  {
   "cell_type": "code",
   "execution_count": 5014,
   "id": "52f8d099",
   "metadata": {},
   "outputs": [
    {
     "data": {
      "text/plain": [
       "27     851\n",
       "1      652\n",
       "23     565\n",
       "6      511\n",
       "9      294\n",
       "      ... \n",
       "199      1\n",
       "117      1\n",
       "207      1\n",
       "209      1\n",
       "174      1\n",
       "Name: DistrictId, Length: 205, dtype: int64"
      ]
     },
     "execution_count": 5014,
     "metadata": {},
     "output_type": "execute_result"
    }
   ],
   "source": [
    "train_df['DistrictId'].value_counts()"
   ]
  },
  {
   "cell_type": "markdown",
   "id": "c832d871",
   "metadata": {},
   "source": [
    "Видим, что районов слишком много(205шт) для того, чтобы переводить их в бинарные признаки, менять числа на числа тоже нет смысла, как и feature encoding - кодирование через другой признак. Применим 4й вариант - описать признак через себя же (т.е. через количество квартир в этом районе)."
   ]
  },
  {
   "cell_type": "markdown",
   "id": "76f7b7e0",
   "metadata": {},
   "source": [
    "###### Посмотрим на остальные  номинативные признаки:"
   ]
  },
  {
   "cell_type": "code",
   "execution_count": 5015,
   "id": "7aeb7e4c",
   "metadata": {},
   "outputs": [
    {
     "data": {
      "text/plain": [
       "B    9903\n",
       "A      97\n",
       "Name: Ecology_2, dtype: int64"
      ]
     },
     "execution_count": 5015,
     "metadata": {},
     "output_type": "execute_result"
    }
   ],
   "source": [
    "train_df['Ecology_2'].value_counts()"
   ]
  },
  {
   "cell_type": "code",
   "execution_count": 5016,
   "id": "1c87314b",
   "metadata": {},
   "outputs": [
    {
     "data": {
      "text/plain": [
       "B    9725\n",
       "A     275\n",
       "Name: Ecology_3, dtype: int64"
      ]
     },
     "execution_count": 5016,
     "metadata": {},
     "output_type": "execute_result"
    }
   ],
   "source": [
    "train_df['Ecology_3'].value_counts()"
   ]
  },
  {
   "cell_type": "code",
   "execution_count": 5017,
   "id": "1f7d12f5",
   "metadata": {},
   "outputs": [
    {
     "data": {
      "text/plain": [
       "B    9175\n",
       "A     825\n",
       "Name: Shops_2, dtype: int64"
      ]
     },
     "execution_count": 5017,
     "metadata": {},
     "output_type": "execute_result"
    }
   ],
   "source": [
    "train_df['Shops_2'].value_counts()"
   ]
  },
  {
   "cell_type": "markdown",
   "id": "c2020e5b",
   "metadata": {},
   "source": [
    "Видим, что у всех трех признаков есть по 2 категории А и В. В дальнейшем заменим их на вещественные 0 и 1."
   ]
  },
  {
   "cell_type": "markdown",
   "id": "000d6257",
   "metadata": {},
   "source": [
    "# 2. Обработаем выбросы\n",
    "Это или очень большие или очень маленькие значения и их мало.\n",
    "Что будем делать:\n",
    " - Выкидывать (только на train, test и valid не трогаем никогда!)\n",
    " - Заменять разными способами (среднее, медиана, np.clip и т.д.)\n",
    " - Делать доп.фичу (= метку, показывающую, что в этом обьекте в этом признаке был выброс)\n",
    " - Ничего не делать"
   ]
  },
  {
   "cell_type": "markdown",
   "id": "31c15e2b",
   "metadata": {},
   "source": [
    "## Rooms\n",
    "Посмотрим на значения, на EDA мы уже выяснили что есть неадекватные цифры. Создадим новую фичу под выбросы и обработаем их."
   ]
  },
  {
   "cell_type": "code",
   "execution_count": 5018,
   "id": "f8fb8c0f",
   "metadata": {},
   "outputs": [
    {
     "data": {
      "text/plain": [
       "2     3880\n",
       "1     3705\n",
       "3     2235\n",
       "4      150\n",
       "5       18\n",
       "0        8\n",
       "10       2\n",
       "19       1\n",
       "6        1\n",
       "Name: Rooms, dtype: int64"
      ]
     },
     "execution_count": 5018,
     "metadata": {},
     "output_type": "execute_result"
    }
   ],
   "source": [
    "train_df['Rooms'].value_counts()"
   ]
  },
  {
   "cell_type": "markdown",
   "id": "09b0dab5",
   "metadata": {},
   "source": [
    "Видим что в 8 квартирах 0 комнат и есть слишком большие квартиры >= 6 комнат. Такого быть не может, ограничим число комнат между [1 и 6]"
   ]
  },
  {
   "cell_type": "markdown",
   "id": "b311c09c",
   "metadata": {},
   "source": [
    "###### Создадим новую фичу под выбросы из комнат."
   ]
  },
  {
   "cell_type": "code",
   "execution_count": 5019,
   "id": "ae9b439b",
   "metadata": {},
   "outputs": [
    {
     "data": {
      "text/plain": [
       "0    9988\n",
       "1      12\n",
       "Name: Rooms_outlier, dtype: int64"
      ]
     },
     "execution_count": 5019,
     "metadata": {},
     "output_type": "execute_result"
    }
   ],
   "source": [
    "train_df['Rooms_outlier'] = 0\n",
    "train_df.loc[(train_df['Rooms'] == 0) | (train_df['Rooms'] >= 6), 'Rooms_outlier'] = 1\n",
    "train_df['Rooms_outlier'].value_counts()"
   ]
  },
  {
   "cell_type": "markdown",
   "id": "12aed083",
   "metadata": {},
   "source": [
    "Видим, что было 12 таких выбросов"
   ]
  },
  {
   "cell_type": "markdown",
   "id": "5aa50f62",
   "metadata": {},
   "source": [
    "###### Вставим вместо 0 значение 1, а вместо аномальных значений - медианы"
   ]
  },
  {
   "cell_type": "code",
   "execution_count": 5020,
   "id": "92678491",
   "metadata": {},
   "outputs": [],
   "source": [
    "train_df.loc[train_df['Rooms'] == 0, 'Rooms'] = 1\n",
    "train_df.loc[train_df['Rooms'] >= 6, 'Rooms'] = train_df['Rooms'].median()"
   ]
  },
  {
   "cell_type": "code",
   "execution_count": 5021,
   "id": "38c8d55a",
   "metadata": {},
   "outputs": [
    {
     "data": {
      "text/plain": [
       "2    3884\n",
       "1    3713\n",
       "3    2235\n",
       "4     150\n",
       "5      18\n",
       "Name: Rooms, dtype: int64"
      ]
     },
     "execution_count": 5021,
     "metadata": {},
     "output_type": "execute_result"
    }
   ],
   "source": [
    "train_df['Rooms'].value_counts()"
   ]
  },
  {
   "cell_type": "markdown",
   "id": "0d596670",
   "metadata": {},
   "source": [
    "Теперь данные выглядят более правдоподобно."
   ]
  },
  {
   "cell_type": "markdown",
   "id": "cd80d290",
   "metadata": {},
   "source": [
    "# KitchenSquare"
   ]
  },
  {
   "cell_type": "code",
   "execution_count": 5022,
   "id": "d550f47d",
   "metadata": {},
   "outputs": [
    {
     "data": {
      "text/plain": [
       "1.0       2460\n",
       "8.0       1306\n",
       "5.0       1169\n",
       "10.0      1075\n",
       "6.0       1038\n",
       "9.0        843\n",
       "0.0        697\n",
       "7.0        609\n",
       "12.0       249\n",
       "11.0       233\n",
       "13.0        67\n",
       "14.0        51\n",
       "4.0         39\n",
       "15.0        31\n",
       "3.0         22\n",
       "16.0        16\n",
       "20.0        14\n",
       "17.0        12\n",
       "19.0        11\n",
       "18.0         6\n",
       "2.0          4\n",
       "22.0         3\n",
       "30.0         2\n",
       "43.0         2\n",
       "41.0         2\n",
       "112.0        2\n",
       "25.0         2\n",
       "51.0         2\n",
       "37.0         2\n",
       "58.0         2\n",
       "32.0         2\n",
       "21.0         1\n",
       "73.0         1\n",
       "75.0         1\n",
       "36.0         1\n",
       "27.0         1\n",
       "63.0         1\n",
       "1970.0       1\n",
       "54.0         1\n",
       "53.0         1\n",
       "60.0         1\n",
       "26.0         1\n",
       "66.0         1\n",
       "39.0         1\n",
       "29.0         1\n",
       "78.0         1\n",
       "31.0         1\n",
       "84.0         1\n",
       "48.0         1\n",
       "96.0         1\n",
       "42.0         1\n",
       "40.0         1\n",
       "23.0         1\n",
       "72.0         1\n",
       "35.0         1\n",
       "62.0         1\n",
       "123.0        1\n",
       "2014.0       1\n",
       "Name: KitchenSquare, dtype: int64"
      ]
     },
     "execution_count": 5022,
     "metadata": {},
     "output_type": "execute_result"
    }
   ],
   "source": [
    "train_df['KitchenSquare'].value_counts()"
   ]
  },
  {
   "cell_type": "markdown",
   "id": "6d23c408",
   "metadata": {},
   "source": [
    "Видим, что есть слишком большие кухни. Значение 0 или маленькие не будем считать выбросами, поскольку бывают квартиры-студии без кухонь. Чтобы понять какое максимальное адекватное значение посчитаем квантиль с правой стороны. И все что выше этого значения будем считать выбросом. "
   ]
  },
  {
   "cell_type": "markdown",
   "id": "f887516d",
   "metadata": {},
   "source": [
    "###### Подберем вручную наиболее адекватный правый квантиль"
   ]
  },
  {
   "cell_type": "code",
   "execution_count": 5023,
   "id": "ba92284b",
   "metadata": {},
   "outputs": [
    {
     "data": {
      "text/plain": [
       "14.0"
      ]
     },
     "execution_count": 5023,
     "metadata": {},
     "output_type": "execute_result"
    }
   ],
   "source": [
    "train_df['KitchenSquare'].quantile(.985)"
   ]
  },
  {
   "cell_type": "markdown",
   "id": "84229935",
   "metadata": {},
   "source": [
    "Видим, что после квантиля 98,5% начинаются слишком большие кухни, оставим порог равный 14 м.кв.\n",
    "Пропусков в KitchenSquare нет. Поэтому не будем это фиксировать в коде. Левую границу обрабатывать не будем, допустим, что есть кухни, совмещенные с комнатой и тогда их площадь может быть маленькой 0, 1, 2, 3...м.кв. "
   ]
  },
  {
   "cell_type": "markdown",
   "id": "83c32964",
   "metadata": {},
   "source": [
    "###### Заполним значения превышающие 14 м.кв. медианой. Задаем именно число, а не квантиль, потому что по мере обхода цикла квантиль смещается влево, а я хочу, чтобы значение 14 осталось в датасете как адекватное и не отсекалось."
   ]
  },
  {
   "cell_type": "code",
   "execution_count": 5024,
   "id": "532a6d98",
   "metadata": {},
   "outputs": [],
   "source": [
    "condition = train_df['KitchenSquare'] > 14 \n",
    "        \n",
    "train_df.loc[condition, 'KitchenSquare'] = train_df['KitchenSquare'].median()\n"
   ]
  },
  {
   "cell_type": "code",
   "execution_count": 5025,
   "id": "11e26e99",
   "metadata": {},
   "outputs": [
    {
     "data": {
      "text/plain": [
       "1.0     2460\n",
       "8.0     1306\n",
       "6.0     1176\n",
       "5.0     1169\n",
       "10.0    1075\n",
       "9.0      843\n",
       "0.0      697\n",
       "7.0      609\n",
       "12.0     249\n",
       "11.0     233\n",
       "13.0      67\n",
       "14.0      51\n",
       "4.0       39\n",
       "3.0       22\n",
       "2.0        4\n",
       "Name: KitchenSquare, dtype: int64"
      ]
     },
     "execution_count": 5025,
     "metadata": {},
     "output_type": "execute_result"
    }
   ],
   "source": [
    "train_df['KitchenSquare'].value_counts()"
   ]
  },
  {
   "cell_type": "markdown",
   "id": "0509a541",
   "metadata": {},
   "source": [
    "Теперь данные выглядят более правдоподобно."
   ]
  },
  {
   "cell_type": "markdown",
   "id": "61b6ad91",
   "metadata": {},
   "source": [
    "###### Посмотрим есть ли кухни по площади больше, чем сама квартира."
   ]
  },
  {
   "cell_type": "code",
   "execution_count": 5026,
   "id": "09e3fa79",
   "metadata": {},
   "outputs": [
    {
     "data": {
      "text/plain": [
       "False    10000\n",
       "dtype: int64"
      ]
     },
     "execution_count": 5026,
     "metadata": {},
     "output_type": "execute_result"
    }
   ],
   "source": [
    "(train_df['KitchenSquare'] > train_df['Square']).value_counts()"
   ]
  },
  {
   "cell_type": "markdown",
   "id": "b655ad4d",
   "metadata": {},
   "source": [
    "Таких кухонь нет, все в порядке. А жилую площадь площадь кухни может превышать вполне."
   ]
  },
  {
   "cell_type": "markdown",
   "id": "57465f6b",
   "metadata": {},
   "source": [
    "# HouseFloor, Floor"
   ]
  },
  {
   "cell_type": "code",
   "execution_count": 5027,
   "id": "c1f59cd7",
   "metadata": {},
   "outputs": [
    {
     "data": {
      "text/plain": [
       "array([  0,   1,   2,   3,   4,   5,   6,   7,   8,   9,  10,  11,  12,\n",
       "        13,  14,  15,  16,  17,  18,  19,  20,  21,  22,  23,  24,  25,\n",
       "        26,  27,  28,  29,  30,  31,  32,  36,  37,  38,  39,  40,  44,\n",
       "        45,  47,  48,  99, 117])"
      ]
     },
     "execution_count": 5027,
     "metadata": {},
     "output_type": "execute_result"
    }
   ],
   "source": [
    "train_df['HouseFloor'].sort_values().unique()"
   ]
  },
  {
   "cell_type": "markdown",
   "id": "52febb18",
   "metadata": {},
   "source": [
    "Видим, что есть выбросы 0, 99 и 117 этажей. Будем от них избавляться."
   ]
  },
  {
   "cell_type": "code",
   "execution_count": 5028,
   "id": "a5dca89b",
   "metadata": {},
   "outputs": [
    {
     "data": {
      "text/plain": [
       "array([ 1,  2,  3,  4,  5,  6,  7,  8,  9, 10, 11, 12, 13, 14, 15, 16, 17,\n",
       "       18, 19, 20, 21, 22, 23, 24, 25, 26, 27, 28, 31, 32, 33, 37, 42],\n",
       "      dtype=int64)"
      ]
     },
     "execution_count": 5028,
     "metadata": {},
     "output_type": "execute_result"
    }
   ],
   "source": [
    "train_df['Floor'].sort_values().unique()"
   ]
  },
  {
   "cell_type": "markdown",
   "id": "ad16138a",
   "metadata": {},
   "source": [
    "Видим, что в этажах квартир выбросов нет, значения вполне адекватны."
   ]
  },
  {
   "cell_type": "code",
   "execution_count": 5029,
   "id": "e127bfbf",
   "metadata": {},
   "outputs": [
    {
     "data": {
      "text/plain": [
       "1825"
      ]
     },
     "execution_count": 5029,
     "metadata": {},
     "output_type": "execute_result"
    }
   ],
   "source": [
    "(train_df['Floor'] > train_df['HouseFloor']).sum()"
   ]
  },
  {
   "cell_type": "markdown",
   "id": "53def004",
   "metadata": {},
   "source": [
    "Видим, что очень много квартир находятся на этажах, превышающих этажность дома. Будем это исправлять."
   ]
  },
  {
   "cell_type": "markdown",
   "id": "0bdc9a8b",
   "metadata": {},
   "source": [
    "###### Создадим новую фичу под выбросы из этажности домов. Отправим в выбросы тот момент, когда этаж квартиры > этажа дома "
   ]
  },
  {
   "cell_type": "code",
   "execution_count": 5030,
   "id": "89bc4252",
   "metadata": {},
   "outputs": [],
   "source": [
    "train_df['HouseFloor_outlier'] = 0\n",
    "train_df.loc[train_df['HouseFloor'] == 0, 'HouseFloor_outlier'] = 1\n",
    "train_df.loc[(train_df['Floor'] > train_df['HouseFloor']) | (train_df['HouseFloor'] > 48), 'HouseFloor_outlier'] = 1"
   ]
  },
  {
   "cell_type": "markdown",
   "id": "c4275f9b",
   "metadata": {},
   "source": [
    "###### Заменим этажность равную 0 или большую, чем 48, а так же где Floor > HouseFloor на этаж, указанный для id квартиры. То есть поднимем этажность хотя бы до указанного этажа."
   ]
  },
  {
   "cell_type": "code",
   "execution_count": 5031,
   "id": "95d485cf",
   "metadata": {},
   "outputs": [],
   "source": [
    "train_df.loc[train_df['HouseFloor'] == 0, 'HouseFloor'] = train_df['Floor']"
   ]
  },
  {
   "cell_type": "code",
   "execution_count": 5032,
   "id": "92071d3b",
   "metadata": {},
   "outputs": [],
   "source": [
    "train_df.loc[(train_df['HouseFloor'] > 48) | (train_df['Floor'] > train_df['HouseFloor']), 'HouseFloor'] = train_df['Floor']"
   ]
  },
  {
   "cell_type": "code",
   "execution_count": 5033,
   "id": "45cb218a",
   "metadata": {},
   "outputs": [
    {
     "data": {
      "text/plain": [
       "0"
      ]
     },
     "execution_count": 5033,
     "metadata": {},
     "output_type": "execute_result"
    }
   ],
   "source": [
    "(train_df['Floor'] > train_df['HouseFloor']).sum()"
   ]
  },
  {
   "cell_type": "markdown",
   "id": "62eb0b8d",
   "metadata": {},
   "source": [
    "Видим, что благодаря изменениям в признаках Floor и HouseFloor больше нет выбросов."
   ]
  },
  {
   "cell_type": "markdown",
   "id": "d8f4ed46",
   "metadata": {},
   "source": [
    "# HouseYear"
   ]
  },
  {
   "cell_type": "code",
   "execution_count": 5034,
   "id": "1f7f3298",
   "metadata": {},
   "outputs": [
    {
     "data": {
      "text/plain": [
       "9163    20052011\n",
       "8828        4968\n",
       "7721        2020\n",
       "9122        2020\n",
       "7955        2020\n",
       "          ...   \n",
       "7610        1916\n",
       "6250        1914\n",
       "2066        1912\n",
       "2795        1912\n",
       "6794        1910\n",
       "Name: HouseYear, Length: 10000, dtype: int64"
      ]
     },
     "execution_count": 5034,
     "metadata": {},
     "output_type": "execute_result"
    }
   ],
   "source": [
    "train_df['HouseYear'].sort_values(ascending=False)"
   ]
  },
  {
   "cell_type": "markdown",
   "id": "42911a34",
   "metadata": {},
   "source": [
    "Видим аномальные верхние значения, будем их обрабатывать, заменим все что выше текущего года на текущий год. И создадим фичу под выбросы."
   ]
  },
  {
   "cell_type": "code",
   "execution_count": 5035,
   "id": "7a3b8e29",
   "metadata": {},
   "outputs": [],
   "source": [
    "current_year = datetime.now().year\n",
    "train_df['HouseYear_outlier'] = 0\n",
    "train_df.loc[train_df['HouseYear'] > current_year, 'HouseYear_outlier'] = 1\n",
    "train_df.loc[train_df['HouseYear'] > current_year, 'HouseYear'] = current_year"
   ]
  },
  {
   "cell_type": "code",
   "execution_count": 5036,
   "id": "6161d87a",
   "metadata": {},
   "outputs": [
    {
     "data": {
      "text/plain": [
       "8828    2021\n",
       "9163    2021\n",
       "7721    2020\n",
       "9122    2020\n",
       "7955    2020\n",
       "        ... \n",
       "7610    1916\n",
       "6250    1914\n",
       "2066    1912\n",
       "2795    1912\n",
       "6794    1910\n",
       "Name: HouseYear, Length: 10000, dtype: int64"
      ]
     },
     "execution_count": 5036,
     "metadata": {},
     "output_type": "execute_result"
    }
   ],
   "source": [
    "train_df['HouseYear'].sort_values(ascending=False)"
   ]
  },
  {
   "cell_type": "markdown",
   "id": "43c63b92",
   "metadata": {},
   "source": [
    "# Square"
   ]
  },
  {
   "cell_type": "code",
   "execution_count": 5037,
   "id": "dfbc61a5",
   "metadata": {},
   "outputs": [
    {
     "data": {
      "text/plain": [
       "9229    641.065193\n",
       "726     604.705972\n",
       "7010    409.425181\n",
       "1906    275.645284\n",
       "7644    212.932361\n",
       "           ...    \n",
       "161       2.954309\n",
       "8572      2.596351\n",
       "9869      2.377248\n",
       "4496      1.988943\n",
       "7470      1.136859\n",
       "Name: Square, Length: 10000, dtype: float64"
      ]
     },
     "execution_count": 5037,
     "metadata": {},
     "output_type": "execute_result"
    }
   ],
   "source": [
    "train_df['Square'].sort_values(ascending=False)"
   ]
  },
  {
   "cell_type": "markdown",
   "id": "5af1d35a",
   "metadata": {},
   "source": [
    "###### Видим, что есть как слишком маленькие так и слишком большие площади квартир. Для оценки адекватности размеров посмотрим на квантили. А слишком маленькие площади квартир заменим на 20м.кв (исходя из знаний о минимально возможной площади квартиры и нормы в 18м.кв на человека)"
   ]
  },
  {
   "cell_type": "code",
   "execution_count": 5038,
   "id": "1eeeb5a2",
   "metadata": {},
   "outputs": [
    {
     "data": {
      "text/plain": [
       "275.68541804493896"
      ]
     },
     "execution_count": 5038,
     "metadata": {},
     "output_type": "execute_result"
    }
   ],
   "source": [
    "train_df['Square'].quantile(.9997)"
   ]
  },
  {
   "cell_type": "markdown",
   "id": "6389a32f",
   "metadata": {},
   "source": [
    "###### Подобрали вручную правую границу наиболее адекватную  и теперь меняем выбросы."
   ]
  },
  {
   "cell_type": "code",
   "execution_count": 5039,
   "id": "41c1f35e",
   "metadata": {},
   "outputs": [],
   "source": [
    "condition = train_df['Square'] > train_df['Square'].quantile(.9997)\n",
    "        \n",
    "train_df.loc[condition, 'Square'] = train_df['Square'].quantile(.9997)"
   ]
  },
  {
   "cell_type": "code",
   "execution_count": 5040,
   "id": "39eb5b47",
   "metadata": {},
   "outputs": [],
   "source": [
    "condition1 = train_df['Square'] < 20 \n",
    "        \n",
    "train_df.loc[condition1, 'Square'] = 20"
   ]
  },
  {
   "cell_type": "markdown",
   "id": "ae24082a",
   "metadata": {},
   "source": [
    "###### Проверяем как получилось."
   ]
  },
  {
   "cell_type": "code",
   "execution_count": 5041,
   "id": "8b54fb82",
   "metadata": {},
   "outputs": [
    {
     "data": {
      "text/plain": [
       "7010    275.685418\n",
       "9229    275.685418\n",
       "726     275.685418\n",
       "1906    275.645284\n",
       "7644    212.932361\n",
       "           ...    \n",
       "4496     20.000000\n",
       "7470     20.000000\n",
       "9869     20.000000\n",
       "4800     20.000000\n",
       "1401     20.000000\n",
       "Name: Square, Length: 10000, dtype: float64"
      ]
     },
     "execution_count": 5041,
     "metadata": {},
     "output_type": "execute_result"
    }
   ],
   "source": [
    "train_df['Square'].sort_values(ascending=False)"
   ]
  },
  {
   "cell_type": "markdown",
   "id": "a96f4895",
   "metadata": {},
   "source": [
    "# LifeSquare"
   ]
  },
  {
   "cell_type": "code",
   "execution_count": 5042,
   "id": "9a5dc9eb",
   "metadata": {},
   "outputs": [
    {
     "data": {
      "text/plain": [
       "8000    7480.592129\n",
       "9229     638.163193\n",
       "5183     461.463614\n",
       "7010     410.639749\n",
       "357      263.542020\n",
       "           ...     \n",
       "9975            NaN\n",
       "9978            NaN\n",
       "9981            NaN\n",
       "9983            NaN\n",
       "9991            NaN\n",
       "Name: LifeSquare, Length: 10000, dtype: float64"
      ]
     },
     "execution_count": 5042,
     "metadata": {},
     "output_type": "execute_result"
    }
   ],
   "source": [
    "train_df['LifeSquare'].sort_values(ascending=False)"
   ]
  },
  {
   "cell_type": "markdown",
   "id": "9866d11b",
   "metadata": {},
   "source": [
    "###### Видим, что есть выбросы в виде больших площадей, а так же ранее мы видели, что есть слишком маленькие минимальные жилые площади 0,3м.кв, что так же не адекватно. Пропуски обработаем позже. Мы знаем, что в Square и KitchenSquare не было пропусков, поэтому можно воспользоваться их разностью и еще вычесть 3м.кв на санузел/кладовую, чтобы получить адекватную жилую площадь."
   ]
  },
  {
   "cell_type": "markdown",
   "id": "8a894712",
   "metadata": {},
   "source": [
    "Сначала исправим аномально большие значения."
   ]
  },
  {
   "cell_type": "code",
   "execution_count": 5043,
   "id": "80e04220",
   "metadata": {},
   "outputs": [],
   "source": [
    "condition2 = train_df['LifeSquare'] > train_df['Square'].max()"
   ]
  },
  {
   "cell_type": "code",
   "execution_count": 5044,
   "id": "1506d009",
   "metadata": {},
   "outputs": [],
   "source": [
    "train_df.loc[condition2, 'LifeSquare'] = train_df['Square'].max() - train_df['KitchenSquare'] - 3"
   ]
  },
  {
   "cell_type": "markdown",
   "id": "469611b3",
   "metadata": {},
   "source": [
    "Теперь исправим аномально маленькие значения. Мы знаем, что минимальная квартира у нас 20м.кв. А минимальная жилая площадь (комната примерно 9м.кв). Исходя из этого делаем замены неадекватно маленьких жилых площадей."
   ]
  },
  {
   "cell_type": "code",
   "execution_count": 5045,
   "id": "cee7a25e",
   "metadata": {},
   "outputs": [],
   "source": [
    "condition3 = train_df['LifeSquare'] < 9"
   ]
  },
  {
   "cell_type": "code",
   "execution_count": 5046,
   "id": "95ae5563",
   "metadata": {},
   "outputs": [],
   "source": [
    "train_df.loc[condition3, 'LifeSquare'] = 9"
   ]
  },
  {
   "cell_type": "code",
   "execution_count": 5047,
   "id": "d0eeeb5b",
   "metadata": {},
   "outputs": [
    {
     "data": {
      "text/html": [
       "<div>\n",
       "<style scoped>\n",
       "    .dataframe tbody tr th:only-of-type {\n",
       "        vertical-align: middle;\n",
       "    }\n",
       "\n",
       "    .dataframe tbody tr th {\n",
       "        vertical-align: top;\n",
       "    }\n",
       "\n",
       "    .dataframe thead th {\n",
       "        text-align: right;\n",
       "    }\n",
       "</style>\n",
       "<table border=\"1\" class=\"dataframe\">\n",
       "  <thead>\n",
       "    <tr style=\"text-align: right;\">\n",
       "      <th></th>\n",
       "      <th>Id</th>\n",
       "      <th>DistrictId</th>\n",
       "      <th>Rooms</th>\n",
       "      <th>Square</th>\n",
       "      <th>LifeSquare</th>\n",
       "      <th>KitchenSquare</th>\n",
       "      <th>Floor</th>\n",
       "      <th>HouseFloor</th>\n",
       "      <th>HouseYear</th>\n",
       "      <th>Ecology_1</th>\n",
       "      <th>...</th>\n",
       "      <th>Social_2</th>\n",
       "      <th>Social_3</th>\n",
       "      <th>Healthcare_1</th>\n",
       "      <th>Helthcare_2</th>\n",
       "      <th>Shops_1</th>\n",
       "      <th>Shops_2</th>\n",
       "      <th>Price</th>\n",
       "      <th>Rooms_outlier</th>\n",
       "      <th>HouseFloor_outlier</th>\n",
       "      <th>HouseYear_outlier</th>\n",
       "    </tr>\n",
       "  </thead>\n",
       "  <tbody>\n",
       "  </tbody>\n",
       "</table>\n",
       "<p>0 rows × 23 columns</p>\n",
       "</div>"
      ],
      "text/plain": [
       "Empty DataFrame\n",
       "Columns: [Id, DistrictId, Rooms, Square, LifeSquare, KitchenSquare, Floor, HouseFloor, HouseYear, Ecology_1, Ecology_2, Ecology_3, Social_1, Social_2, Social_3, Healthcare_1, Helthcare_2, Shops_1, Shops_2, Price, Rooms_outlier, HouseFloor_outlier, HouseYear_outlier]\n",
       "Index: []\n",
       "\n",
       "[0 rows x 23 columns]"
      ]
     },
     "execution_count": 5047,
     "metadata": {},
     "output_type": "execute_result"
    }
   ],
   "source": [
    "train_df.loc[train_df['LifeSquare'] < 9]"
   ]
  },
  {
   "cell_type": "markdown",
   "id": "59494acf",
   "metadata": {},
   "source": [
    "Проверили, теперь нет жилых площадей < 9м.кв."
   ]
  },
  {
   "cell_type": "markdown",
   "id": "e6af7c2a",
   "metadata": {},
   "source": [
    "Теперь проверим условие, что Lifesquare не должна быть больше Square."
   ]
  },
  {
   "cell_type": "code",
   "execution_count": 5048,
   "id": "3ae55785",
   "metadata": {},
   "outputs": [
    {
     "data": {
      "text/plain": [
       "False    9528\n",
       "True      472\n",
       "dtype: int64"
      ]
     },
     "execution_count": 5048,
     "metadata": {},
     "output_type": "execute_result"
    }
   ],
   "source": [
    "(train_df['LifeSquare'] > train_df['Square']).value_counts()"
   ]
  },
  {
   "cell_type": "markdown",
   "id": "1536bfec",
   "metadata": {},
   "source": [
    "Мы видим, что в 472 обьектах жилая площадь превышает вообще площадь квартиры. Заменим в этих квартирах жилую площадь на разницу между Square - Kitchensquare - 3"
   ]
  },
  {
   "cell_type": "code",
   "execution_count": 5049,
   "id": "c064d560",
   "metadata": {},
   "outputs": [],
   "source": [
    "condition4 = train_df['LifeSquare'] > train_df['Square']"
   ]
  },
  {
   "cell_type": "code",
   "execution_count": 5050,
   "id": "c318d6e2",
   "metadata": {},
   "outputs": [],
   "source": [
    "train_df.loc[condition4, 'LifeSquare'] = train_df['Square'] - train_df['KitchenSquare'] - 3"
   ]
  },
  {
   "cell_type": "code",
   "execution_count": 5051,
   "id": "ab11ba5c",
   "metadata": {},
   "outputs": [
    {
     "data": {
      "text/plain": [
       "False    10000\n",
       "dtype: int64"
      ]
     },
     "execution_count": 5051,
     "metadata": {},
     "output_type": "execute_result"
    }
   ],
   "source": [
    "(train_df['LifeSquare'] > train_df['Square']).value_counts()"
   ]
  },
  {
   "cell_type": "markdown",
   "id": "29d386d8",
   "metadata": {},
   "source": [
    "Теперь все общие площади находятся в разумных пределах."
   ]
  },
  {
   "cell_type": "markdown",
   "id": "9e21dd6e",
   "metadata": {},
   "source": [
    "Проверим еще раз, что у нас в результате преобразований не образовались слишком маленькие жилые площади."
   ]
  },
  {
   "cell_type": "code",
   "execution_count": 5052,
   "id": "cb90094d",
   "metadata": {},
   "outputs": [
    {
     "data": {
      "text/plain": [
       "False    10000\n",
       "Name: LifeSquare, dtype: int64"
      ]
     },
     "execution_count": 5052,
     "metadata": {},
     "output_type": "execute_result"
    }
   ],
   "source": [
    "(train_df['LifeSquare'] < 9).value_counts()"
   ]
  },
  {
   "cell_type": "markdown",
   "id": "e6663a4c",
   "metadata": {},
   "source": [
    "# Social_3"
   ]
  },
  {
   "cell_type": "markdown",
   "id": "85bda3f0",
   "metadata": {},
   "source": [
    "Ранее мы отмечали, что в этом признаке среднее в 4 раза превосходит медиану. Значит справа есть выбросы."
   ]
  },
  {
   "cell_type": "code",
   "execution_count": 5053,
   "id": "35913747",
   "metadata": {},
   "outputs": [
    {
     "data": {
      "text/plain": [
       "0      2997\n",
       "1      1861\n",
       "3      1136\n",
       "4       835\n",
       "2       635\n",
       "6       423\n",
       "5       391\n",
       "141     245\n",
       "9       192\n",
       "7       184\n",
       "11      172\n",
       "8       170\n",
       "10      142\n",
       "16      101\n",
       "14       97\n",
       "27       59\n",
       "48       58\n",
       "56       49\n",
       "84       43\n",
       "24       37\n",
       "87       27\n",
       "93       25\n",
       "59       25\n",
       "19       22\n",
       "20       19\n",
       "23       18\n",
       "39       15\n",
       "73       10\n",
       "45        9\n",
       "37        3\n",
       "Name: Social_3, dtype: int64"
      ]
     },
     "execution_count": 5053,
     "metadata": {},
     "output_type": "execute_result"
    }
   ],
   "source": [
    "(train_df['Social_3']).value_counts()"
   ]
  },
  {
   "cell_type": "markdown",
   "id": "7cb791d9",
   "metadata": {},
   "source": [
    "###### Для наглядности построим гистограмму."
   ]
  },
  {
   "cell_type": "code",
   "execution_count": 5054,
   "id": "5e8e31d7",
   "metadata": {},
   "outputs": [
    {
     "data": {
      "image/png": "[encoded data removed]",
      "text/plain": [
       "<Figure size 576x432 with 1 Axes>"
      ]
     },
     "metadata": {
      "needs_background": "light"
     },
     "output_type": "display_data"
    }
   ],
   "source": [
    "train_df['Social_3'].hist(figsize=(8,6))\n",
    "plt.show()"
   ]
  },
  {
   "cell_type": "markdown",
   "id": "c6728c7b",
   "metadata": {},
   "source": [
    "Видно, что основная масса значаний в пределах 50. И есть большой выброс > 125. Воспользуемся квантилем, чтобы убрать этот выброс."
   ]
  },
  {
   "cell_type": "code",
   "execution_count": 5055,
   "id": "a3886db1",
   "metadata": {},
   "outputs": [
    {
     "data": {
      "text/plain": [
       "93.0"
      ]
     },
     "execution_count": 5055,
     "metadata": {},
     "output_type": "execute_result"
    }
   ],
   "source": [
    "train_df['Social_3'].quantile(.975)"
   ]
  },
  {
   "cell_type": "code",
   "execution_count": 5056,
   "id": "808b138a",
   "metadata": {},
   "outputs": [
    {
     "data": {
      "text/plain": [
       "8"
      ]
     },
     "execution_count": 5056,
     "metadata": {},
     "output_type": "execute_result"
    }
   ],
   "source": [
    "round(train_df['Social_3'].mean())"
   ]
  },
  {
   "cell_type": "markdown",
   "id": "99b1ad5a",
   "metadata": {},
   "source": [
    "###### Заменим выбросные значения на среднее. Округлим, т.к. Social_3 имеет тип int64."
   ]
  },
  {
   "cell_type": "code",
   "execution_count": 5057,
   "id": "4bf5169e",
   "metadata": {},
   "outputs": [],
   "source": [
    "condition5 = train_df['Social_3'] > train_df['Social_3'].quantile(.975)\n",
    "        \n",
    "train_df.loc[condition5, 'Social_3'] = round(train_df['Social_3'].mean())"
   ]
  },
  {
   "cell_type": "code",
   "execution_count": 5058,
   "id": "15117c63",
   "metadata": {},
   "outputs": [
    {
     "data": {
      "text/plain": [
       "0     2997\n",
       "1     1861\n",
       "3     1136\n",
       "4      835\n",
       "2      635\n",
       "6      423\n",
       "8      415\n",
       "5      391\n",
       "9      192\n",
       "7      184\n",
       "11     172\n",
       "10     142\n",
       "16     101\n",
       "14      97\n",
       "27      59\n",
       "48      58\n",
       "56      49\n",
       "84      43\n",
       "24      37\n",
       "87      27\n",
       "93      25\n",
       "59      25\n",
       "19      22\n",
       "20      19\n",
       "23      18\n",
       "39      15\n",
       "73      10\n",
       "45       9\n",
       "37       3\n",
       "Name: Social_3, dtype: int64"
      ]
     },
     "execution_count": 5058,
     "metadata": {},
     "output_type": "execute_result"
    }
   ],
   "source": [
    "(train_df['Social_3']).value_counts()"
   ]
  },
  {
   "cell_type": "markdown",
   "id": "57c30856",
   "metadata": {},
   "source": [
    "# Мы обработали все выбросы!"
   ]
  },
  {
   "cell_type": "markdown",
   "id": "3de3c30e",
   "metadata": {},
   "source": [
    "# ---------------------------------------------------------------------------------------------------------------"
   ]
  },
  {
   "cell_type": "markdown",
   "id": "c737ad56",
   "metadata": {},
   "source": [
    "# 3. Обработаем пропуски."
   ]
  },
  {
   "cell_type": "code",
   "execution_count": 5059,
   "id": "f2bf5197",
   "metadata": {},
   "outputs": [
    {
     "name": "stdout",
     "output_type": "stream",
     "text": [
      "<class 'pandas.core.frame.DataFrame'>\n",
      "RangeIndex: 10000 entries, 0 to 9999\n",
      "Data columns (total 23 columns):\n",
      " #   Column              Non-Null Count  Dtype  \n",
      "---  ------              --------------  -----  \n",
      " 0   Id                  10000 non-null  object \n",
      " 1   DistrictId          10000 non-null  object \n",
      " 2   Rooms               10000 non-null  int32  \n",
      " 3   Square              10000 non-null  float64\n",
      " 4   LifeSquare          7887 non-null   float64\n",
      " 5   KitchenSquare       10000 non-null  float64\n",
      " 6   Floor               10000 non-null  int64  \n",
      " 7   HouseFloor          10000 non-null  int64  \n",
      " 8   HouseYear           10000 non-null  int64  \n",
      " 9   Ecology_1           10000 non-null  float64\n",
      " 10  Ecology_2           10000 non-null  object \n",
      " 11  Ecology_3           10000 non-null  object \n",
      " 12  Social_1            10000 non-null  int64  \n",
      " 13  Social_2            10000 non-null  int64  \n",
      " 14  Social_3            10000 non-null  int64  \n",
      " 15  Healthcare_1        5202 non-null   float64\n",
      " 16  Helthcare_2         10000 non-null  int64  \n",
      " 17  Shops_1             10000 non-null  int64  \n",
      " 18  Shops_2             10000 non-null  object \n",
      " 19  Price               10000 non-null  float64\n",
      " 20  Rooms_outlier       10000 non-null  int64  \n",
      " 21  HouseFloor_outlier  10000 non-null  int64  \n",
      " 22  HouseYear_outlier   10000 non-null  int64  \n",
      "dtypes: float64(6), int32(1), int64(11), object(5)\n",
      "memory usage: 1.7+ MB\n"
     ]
    }
   ],
   "source": [
    "train_df.info() # Посмотрим в каких признаках есть пропуски"
   ]
  },
  {
   "cell_type": "markdown",
   "id": "5302394b",
   "metadata": {},
   "source": [
    "###### Видим, что пропуски в двух признаках Lifesquare и Healthcare_1"
   ]
  },
  {
   "cell_type": "markdown",
   "id": "5bc81d27",
   "metadata": {},
   "source": [
    "# LifeSquare"
   ]
  },
  {
   "cell_type": "markdown",
   "id": "bc9b5617",
   "metadata": {},
   "source": [
    "Заменим пропуски на разницу между Square - Kitchensquare - 3 как это делали ранее. И на всякий случай пропишем условие, что в остальных признаках нет незаполненных значений. Так же создадим фичу под пропуски."
   ]
  },
  {
   "cell_type": "code",
   "execution_count": 5060,
   "id": "56a0c356",
   "metadata": {},
   "outputs": [],
   "source": [
    "train_df['LifeSquare_nan'] = train_df['LifeSquare'].isna() * 1\n",
    "\n",
    "condition6 = (train_df['LifeSquare'].isna()) \\\n",
    "             & (~train_df['Square'].isna()) \\\n",
    "             & (~train_df['KitchenSquare'].isna())\n",
    "        \n",
    "train_df.loc[condition6, 'LifeSquare'] = train_df.loc[condition6, 'Square'] \\\n",
    "                                            - train_df.loc[condition6, 'KitchenSquare'] - 3"
   ]
  },
  {
   "cell_type": "markdown",
   "id": "dd641d59",
   "metadata": {},
   "source": [
    "Проверим как получилось."
   ]
  },
  {
   "cell_type": "code",
   "execution_count": 5061,
   "id": "d241e340",
   "metadata": {},
   "outputs": [
    {
     "data": {
      "text/plain": [
       "Id                       0\n",
       "DistrictId               0\n",
       "Rooms                    0\n",
       "Square                   0\n",
       "LifeSquare               0\n",
       "KitchenSquare            0\n",
       "Floor                    0\n",
       "HouseFloor               0\n",
       "HouseYear                0\n",
       "Ecology_1                0\n",
       "Ecology_2                0\n",
       "Ecology_3                0\n",
       "Social_1                 0\n",
       "Social_2                 0\n",
       "Social_3                 0\n",
       "Healthcare_1          4798\n",
       "Helthcare_2              0\n",
       "Shops_1                  0\n",
       "Shops_2                  0\n",
       "Price                    0\n",
       "Rooms_outlier            0\n",
       "HouseFloor_outlier       0\n",
       "HouseYear_outlier        0\n",
       "LifeSquare_nan           0\n",
       "dtype: int64"
      ]
     },
     "execution_count": 5061,
     "metadata": {},
     "output_type": "execute_result"
    }
   ],
   "source": [
    "train_df.isna().sum()"
   ]
  },
  {
   "cell_type": "markdown",
   "id": "282b3623",
   "metadata": {},
   "source": [
    "Видим, что теперь нет пропущенных значений в Lifesquare"
   ]
  },
  {
   "cell_type": "markdown",
   "id": "4824951c",
   "metadata": {},
   "source": [
    "# Healthcare_1"
   ]
  },
  {
   "cell_type": "markdown",
   "id": "634045fd",
   "metadata": {},
   "source": [
    "###### Попробуем найти зависимости данного признака от других, чтобы примерно заполнить пропуски, которых очень много."
   ]
  },
  {
   "cell_type": "code",
   "execution_count": 5062,
   "id": "b8aba08d",
   "metadata": {},
   "outputs": [],
   "source": [
    "x = train_df.loc[(train_df['Healthcare_1'].isna() == False), 'Healthcare_1'].values\n"
   ]
  },
  {
   "cell_type": "code",
   "execution_count": 5063,
   "id": "c2149f7e",
   "metadata": {},
   "outputs": [],
   "source": [
    "y = train_df.loc[(train_df['Healthcare_1'].isna() == False), 'Social_3'].values"
   ]
  },
  {
   "cell_type": "code",
   "execution_count": 5064,
   "id": "ef4b7cc1",
   "metadata": {},
   "outputs": [
    {
     "data": {
      "image/png": "[encoded data removed]",
      "text/plain": [
       "<Figure size 432x288 with 1 Axes>"
      ]
     },
     "metadata": {
      "needs_background": "light"
     },
     "output_type": "display_data"
    }
   ],
   "source": [
    "plt.scatter(x, y, color='green')\n",
    "plt.title('График зависимости')\n",
    "plt.xlabel('Healthcare_1')\n",
    "plt.ylabel('Social_3')\n",
    "plt.axis([-200, 4000, -10, 60])\n",
    "plt.show()"
   ]
  },
  {
   "cell_type": "markdown",
   "id": "0204387e",
   "metadata": {},
   "source": [
    "###### Путем перебора нашли график, где более-менее видна связь. Заполним пропуски по формуле x = 300y, где х - Healthcare_1, а у - Social_3"
   ]
  },
  {
   "cell_type": "code",
   "execution_count": 5065,
   "id": "eca468e0",
   "metadata": {},
   "outputs": [],
   "source": [
    "train_df['Healthcare_1_nan'] = train_df['Healthcare_1'].isna() * 1\n",
    "\n",
    "condition7 = (train_df['Healthcare_1'].isna()) \\\n",
    "             & (~train_df['Social_3'].isna()) \n",
    "        \n",
    "train_df.loc[condition7, 'Healthcare_1'] = 300 * train_df.loc[condition7, 'Social_3']"
   ]
  },
  {
   "cell_type": "markdown",
   "id": "0a29d454",
   "metadata": {},
   "source": [
    "###### Проверим, что пустых значений в признаке не осталось."
   ]
  },
  {
   "cell_type": "code",
   "execution_count": 5066,
   "id": "5f1eac9d",
   "metadata": {},
   "outputs": [
    {
     "data": {
      "text/plain": [
       "0"
      ]
     },
     "execution_count": 5066,
     "metadata": {},
     "output_type": "execute_result"
    }
   ],
   "source": [
    "train_df['Healthcare_1'].isna().sum()\n"
   ]
  },
  {
   "cell_type": "code",
   "execution_count": 5067,
   "id": "317c448c",
   "metadata": {},
   "outputs": [
    {
     "data": {
      "text/plain": [
       "Id                    0\n",
       "DistrictId            0\n",
       "Rooms                 0\n",
       "Square                0\n",
       "LifeSquare            0\n",
       "KitchenSquare         0\n",
       "Floor                 0\n",
       "HouseFloor            0\n",
       "HouseYear             0\n",
       "Ecology_1             0\n",
       "Ecology_2             0\n",
       "Ecology_3             0\n",
       "Social_1              0\n",
       "Social_2              0\n",
       "Social_3              0\n",
       "Healthcare_1          0\n",
       "Helthcare_2           0\n",
       "Shops_1               0\n",
       "Shops_2               0\n",
       "Price                 0\n",
       "Rooms_outlier         0\n",
       "HouseFloor_outlier    0\n",
       "HouseYear_outlier     0\n",
       "LifeSquare_nan        0\n",
       "Healthcare_1_nan      0\n",
       "dtype: int64"
      ]
     },
     "execution_count": 5067,
     "metadata": {},
     "output_type": "execute_result"
    }
   ],
   "source": [
    "train_df.isna().sum()"
   ]
  },
  {
   "cell_type": "markdown",
   "id": "8a184f5e",
   "metadata": {},
   "source": [
    "# Мы обработали все пропуски!"
   ]
  },
  {
   "cell_type": "markdown",
   "id": "40d0d5f1",
   "metadata": {},
   "source": [
    "# ---------------------------------------------------------------------------------------------------------------"
   ]
  },
  {
   "cell_type": "markdown",
   "id": "0384f2e8",
   "metadata": {},
   "source": [
    "# Теперь создадим функцию, которая будет обрабатывать выбросы и пропуски, т.к. это нужно делать в 3 датасетах (train, valid и test). Класс для пропусков и выбросов мы делать не будем, а будем отдельно считать медианы для каждого датасета, чтобы предотвратить переобучение (данная рекомендация есть в методическом пособии к курсу в разделе \"Обучение с Учителем\" на стр.15.\n",
    "# Прогоним впоследствии все датасеты еще раз через эту функцию после разделения данных."
   ]
  },
  {
   "cell_type": "code",
   "execution_count": 5068,
   "id": "3cd5b21e",
   "metadata": {},
   "outputs": [],
   "source": [
    "def data_preprocessing(df):\n",
    "    \n",
    "# Rooms\n",
    "    df['Rooms_outlier'] = 0\n",
    "    df.loc[(df['Rooms'] == 0) | (df['Rooms'] >= 6), 'Rooms_outlier'] = 1\n",
    "    df['Rooms_outlier'].value_counts()\n",
    "    df.loc[df['Rooms'] == 0, 'Rooms'] = 1\n",
    "    df.loc[df['Rooms'] >= 6, 'Rooms'] = df['Rooms'].median()\n",
    "# KitchenSquare\n",
    "    condition = df['KitchenSquare'] > 14      \n",
    "    df.loc[condition, 'KitchenSquare'] = df['KitchenSquare'].median()\n",
    "# HouseFloor, Floor\n",
    "    df['HouseFloor_outlier'] = 0\n",
    "    df.loc[df['HouseFloor'] == 0, 'HouseFloor_outlier'] = 1\n",
    "    df.loc[(df['Floor'] > df['HouseFloor']) | (df['HouseFloor'] > 48), 'HouseFloor_outlier'] = 1\n",
    "    df.loc[df['HouseFloor'] == 0, 'HouseFloor'] = df['Floor']\n",
    "    df.loc[(df['HouseFloor'] > 48) | (df['Floor'] > df['HouseFloor']), 'HouseFloor'] = df['Floor']\n",
    "# HouseYear\n",
    "    current_year = datetime.now().year\n",
    "    df['HouseYear_outlier'] = 0\n",
    "    df.loc[df['HouseYear'] > current_year, 'HouseYear_outlier'] = 1\n",
    "    df.loc[df['HouseYear'] > current_year, 'HouseYear'] = current_year\n",
    "# Square\n",
    "    condition = df['Square'] > df['Square'].quantile(.9997)       \n",
    "    df.loc[condition, 'Square'] = df['Square'].quantile(.9997)\n",
    "    condition1 = df['Square'] < 20        \n",
    "    df.loc[condition1, 'Square'] = 20\n",
    "# Lifesquare\n",
    "    condition2 = df['LifeSquare'] > df['Square'].max()\n",
    "    df.loc[condition2, 'LifeSquare'] = df['Square'].max() - df['KitchenSquare'] - 3\n",
    "    condition3 = df['LifeSquare'] < 9\n",
    "    df.loc[condition3, 'LifeSquare'] = 9\n",
    "    condition4 = df['LifeSquare'] > df['Square']\n",
    "    df.loc[condition4, 'LifeSquare'] = df['Square'] - df['KitchenSquare'] - 3\n",
    "# Social_3\n",
    "    condition5 = df['Social_3'] > df['Social_3'].quantile(.975)    \n",
    "    df.loc[condition5, 'Social_3'] = round(df['Social_3'].mean())\n",
    "# Missings\n",
    "# Lifesquare_1\n",
    "    df['LifeSquare_nan'] = df['LifeSquare'].isna() * 1\n",
    "    condition6 = (df['LifeSquare'].isna()) \\\n",
    "             & (~df['Square'].isna()) \\\n",
    "             & (~df['KitchenSquare'].isna())  \n",
    "    df.loc[condition6, 'LifeSquare'] = df.loc[condition6, 'Square'] \\\n",
    "             - df.loc[condition6, 'KitchenSquare'] - 3\n",
    "# Social_3\n",
    "    df['Healthcare_1_nan'] = df['Healthcare_1'].isna() * 1\n",
    "    condition7 = (df['Healthcare_1'].isna()) \\\n",
    "             & (~df['Social_3'].isna())       \n",
    "    df.loc[condition7, 'Healthcare_1'] = 300 * df.loc[condition7, 'Social_3']\n",
    "    \n",
    "    return df"
   ]
  },
  {
   "cell_type": "markdown",
   "id": "9b8a9c78",
   "metadata": {},
   "source": [
    "# 4. Построение новых признаков (в нашем случае замена категориальных на вещественные, т.к. модели плохо обучаются на категориях и создание новых признаков на основании старых)."
   ]
  },
  {
   "cell_type": "markdown",
   "id": "5dc8f0fa",
   "metadata": {},
   "source": [
    "Dummi- признаки"
   ]
  },
  {
   "cell_type": "markdown",
   "id": "4d01e68f",
   "metadata": {},
   "source": [
    "# Ecology_2, Ecology_3, Shops_2"
   ]
  },
  {
   "cell_type": "code",
   "execution_count": 5069,
   "id": "726cf399",
   "metadata": {},
   "outputs": [],
   "source": [
    "binary_to_numbers = {'A': 0, 'B': 1}\n",
    "\n",
    "train_df['Ecology_2'] = train_df['Ecology_2'].replace(binary_to_numbers)\n",
    "train_df['Ecology_3'] = train_df['Ecology_3'].replace(binary_to_numbers)\n",
    "train_df['Shops_2'] = train_df['Shops_2'].replace(binary_to_numbers)"
   ]
  },
  {
   "cell_type": "code",
   "execution_count": 5070,
   "id": "5465989c",
   "metadata": {},
   "outputs": [
    {
     "data": {
      "text/plain": [
       "Id                     object\n",
       "DistrictId             object\n",
       "Rooms                   int32\n",
       "Square                float64\n",
       "LifeSquare            float64\n",
       "KitchenSquare         float64\n",
       "Floor                   int64\n",
       "HouseFloor              int64\n",
       "HouseYear               int64\n",
       "Ecology_1             float64\n",
       "Ecology_2               int64\n",
       "Ecology_3               int64\n",
       "Social_1                int64\n",
       "Social_2                int64\n",
       "Social_3                int64\n",
       "Healthcare_1          float64\n",
       "Helthcare_2             int64\n",
       "Shops_1                 int64\n",
       "Shops_2                 int64\n",
       "Price                 float64\n",
       "Rooms_outlier           int64\n",
       "HouseFloor_outlier      int64\n",
       "HouseYear_outlier       int64\n",
       "LifeSquare_nan          int32\n",
       "Healthcare_1_nan        int32\n",
       "dtype: object"
      ]
     },
     "execution_count": 5070,
     "metadata": {},
     "output_type": "execute_result"
    }
   ],
   "source": [
    "train_df.dtypes"
   ]
  },
  {
   "cell_type": "markdown",
   "id": "714ef08a",
   "metadata": {},
   "source": [
    "###### Видно,что тип данных изменился с object на int64"
   ]
  },
  {
   "cell_type": "markdown",
   "id": "3f581326",
   "metadata": {},
   "source": [
    "# DistrictID to DistrictSize"
   ]
  },
  {
   "cell_type": "markdown",
   "id": "fb5b89de",
   "metadata": {},
   "source": [
    "###### Создадим новую вещественную фичу на основании того, сколько квартир находится на территории каждого района."
   ]
  },
  {
   "cell_type": "code",
   "execution_count": 5071,
   "id": "5e36cf8a",
   "metadata": {},
   "outputs": [
    {
     "data": {
      "text/html": [
       "<div>\n",
       "<style scoped>\n",
       "    .dataframe tbody tr th:only-of-type {\n",
       "        vertical-align: middle;\n",
       "    }\n",
       "\n",
       "    .dataframe tbody tr th {\n",
       "        vertical-align: top;\n",
       "    }\n",
       "\n",
       "    .dataframe thead th {\n",
       "        text-align: right;\n",
       "    }\n",
       "</style>\n",
       "<table border=\"1\" class=\"dataframe\">\n",
       "  <thead>\n",
       "    <tr style=\"text-align: right;\">\n",
       "      <th></th>\n",
       "      <th>DistrictId</th>\n",
       "      <th>DistrictSize</th>\n",
       "    </tr>\n",
       "  </thead>\n",
       "  <tbody>\n",
       "    <tr>\n",
       "      <th>0</th>\n",
       "      <td>27</td>\n",
       "      <td>851</td>\n",
       "    </tr>\n",
       "    <tr>\n",
       "      <th>1</th>\n",
       "      <td>1</td>\n",
       "      <td>652</td>\n",
       "    </tr>\n",
       "    <tr>\n",
       "      <th>2</th>\n",
       "      <td>23</td>\n",
       "      <td>565</td>\n",
       "    </tr>\n",
       "    <tr>\n",
       "      <th>3</th>\n",
       "      <td>6</td>\n",
       "      <td>511</td>\n",
       "    </tr>\n",
       "    <tr>\n",
       "      <th>4</th>\n",
       "      <td>9</td>\n",
       "      <td>294</td>\n",
       "    </tr>\n",
       "  </tbody>\n",
       "</table>\n",
       "</div>"
      ],
      "text/plain": [
       "  DistrictId  DistrictSize\n",
       "0         27           851\n",
       "1          1           652\n",
       "2         23           565\n",
       "3          6           511\n",
       "4          9           294"
      ]
     },
     "execution_count": 5071,
     "metadata": {},
     "output_type": "execute_result"
    }
   ],
   "source": [
    "district_size = train_df['DistrictId'].value_counts().reset_index()\\\n",
    "                    .rename(columns={'index':'DistrictId', 'DistrictId':'DistrictSize'})\n",
    "\n",
    "district_size.head()"
   ]
  },
  {
   "cell_type": "code",
   "execution_count": 5072,
   "id": "a95ec428",
   "metadata": {},
   "outputs": [
    {
     "data": {
      "text/html": [
       "<div>\n",
       "<style scoped>\n",
       "    .dataframe tbody tr th:only-of-type {\n",
       "        vertical-align: middle;\n",
       "    }\n",
       "\n",
       "    .dataframe tbody tr th {\n",
       "        vertical-align: top;\n",
       "    }\n",
       "\n",
       "    .dataframe thead th {\n",
       "        text-align: right;\n",
       "    }\n",
       "</style>\n",
       "<table border=\"1\" class=\"dataframe\">\n",
       "  <thead>\n",
       "    <tr style=\"text-align: right;\">\n",
       "      <th></th>\n",
       "      <th>Id</th>\n",
       "      <th>DistrictId</th>\n",
       "      <th>Rooms</th>\n",
       "      <th>Square</th>\n",
       "      <th>LifeSquare</th>\n",
       "      <th>KitchenSquare</th>\n",
       "      <th>Floor</th>\n",
       "      <th>HouseFloor</th>\n",
       "      <th>HouseYear</th>\n",
       "      <th>Ecology_1</th>\n",
       "      <th>...</th>\n",
       "      <th>Helthcare_2</th>\n",
       "      <th>Shops_1</th>\n",
       "      <th>Shops_2</th>\n",
       "      <th>Price</th>\n",
       "      <th>Rooms_outlier</th>\n",
       "      <th>HouseFloor_outlier</th>\n",
       "      <th>HouseYear_outlier</th>\n",
       "      <th>LifeSquare_nan</th>\n",
       "      <th>Healthcare_1_nan</th>\n",
       "      <th>DistrictSize</th>\n",
       "    </tr>\n",
       "  </thead>\n",
       "  <tbody>\n",
       "    <tr>\n",
       "      <th>0</th>\n",
       "      <td>11809</td>\n",
       "      <td>27</td>\n",
       "      <td>3</td>\n",
       "      <td>115.027311</td>\n",
       "      <td>102.027311</td>\n",
       "      <td>10.0</td>\n",
       "      <td>4</td>\n",
       "      <td>10</td>\n",
       "      <td>2014</td>\n",
       "      <td>0.075424</td>\n",
       "      <td>...</td>\n",
       "      <td>0</td>\n",
       "      <td>0</td>\n",
       "      <td>1</td>\n",
       "      <td>305018.871089</td>\n",
       "      <td>0</td>\n",
       "      <td>0</td>\n",
       "      <td>0</td>\n",
       "      <td>1</td>\n",
       "      <td>1</td>\n",
       "      <td>851</td>\n",
       "    </tr>\n",
       "    <tr>\n",
       "      <th>1</th>\n",
       "      <td>3013</td>\n",
       "      <td>22</td>\n",
       "      <td>1</td>\n",
       "      <td>39.832524</td>\n",
       "      <td>23.169223</td>\n",
       "      <td>8.0</td>\n",
       "      <td>7</td>\n",
       "      <td>8</td>\n",
       "      <td>1966</td>\n",
       "      <td>0.118537</td>\n",
       "      <td>...</td>\n",
       "      <td>1</td>\n",
       "      <td>0</td>\n",
       "      <td>1</td>\n",
       "      <td>177734.553407</td>\n",
       "      <td>0</td>\n",
       "      <td>0</td>\n",
       "      <td>0</td>\n",
       "      <td>0</td>\n",
       "      <td>0</td>\n",
       "      <td>78</td>\n",
       "    </tr>\n",
       "    <tr>\n",
       "      <th>2</th>\n",
       "      <td>8215</td>\n",
       "      <td>1</td>\n",
       "      <td>3</td>\n",
       "      <td>78.342215</td>\n",
       "      <td>47.671972</td>\n",
       "      <td>10.0</td>\n",
       "      <td>2</td>\n",
       "      <td>17</td>\n",
       "      <td>1988</td>\n",
       "      <td>0.025609</td>\n",
       "      <td>...</td>\n",
       "      <td>3</td>\n",
       "      <td>1</td>\n",
       "      <td>1</td>\n",
       "      <td>282078.720850</td>\n",
       "      <td>0</td>\n",
       "      <td>0</td>\n",
       "      <td>0</td>\n",
       "      <td>0</td>\n",
       "      <td>0</td>\n",
       "      <td>652</td>\n",
       "    </tr>\n",
       "    <tr>\n",
       "      <th>3</th>\n",
       "      <td>2352</td>\n",
       "      <td>1</td>\n",
       "      <td>1</td>\n",
       "      <td>40.409907</td>\n",
       "      <td>36.409907</td>\n",
       "      <td>1.0</td>\n",
       "      <td>10</td>\n",
       "      <td>22</td>\n",
       "      <td>1977</td>\n",
       "      <td>0.007122</td>\n",
       "      <td>...</td>\n",
       "      <td>0</td>\n",
       "      <td>1</td>\n",
       "      <td>1</td>\n",
       "      <td>168106.007630</td>\n",
       "      <td>0</td>\n",
       "      <td>0</td>\n",
       "      <td>0</td>\n",
       "      <td>1</td>\n",
       "      <td>1</td>\n",
       "      <td>652</td>\n",
       "    </tr>\n",
       "    <tr>\n",
       "      <th>4</th>\n",
       "      <td>13866</td>\n",
       "      <td>94</td>\n",
       "      <td>2</td>\n",
       "      <td>64.285067</td>\n",
       "      <td>38.562517</td>\n",
       "      <td>9.0</td>\n",
       "      <td>16</td>\n",
       "      <td>16</td>\n",
       "      <td>1972</td>\n",
       "      <td>0.282798</td>\n",
       "      <td>...</td>\n",
       "      <td>0</td>\n",
       "      <td>6</td>\n",
       "      <td>1</td>\n",
       "      <td>343995.102962</td>\n",
       "      <td>0</td>\n",
       "      <td>0</td>\n",
       "      <td>0</td>\n",
       "      <td>0</td>\n",
       "      <td>1</td>\n",
       "      <td>89</td>\n",
       "    </tr>\n",
       "  </tbody>\n",
       "</table>\n",
       "<p>5 rows × 26 columns</p>\n",
       "</div>"
      ],
      "text/plain": [
       "      Id DistrictId  Rooms      Square  LifeSquare  KitchenSquare  Floor  \\\n",
       "0  11809         27      3  115.027311  102.027311           10.0      4   \n",
       "1   3013         22      1   39.832524   23.169223            8.0      7   \n",
       "2   8215          1      3   78.342215   47.671972           10.0      2   \n",
       "3   2352          1      1   40.409907   36.409907            1.0     10   \n",
       "4  13866         94      2   64.285067   38.562517            9.0     16   \n",
       "\n",
       "   HouseFloor  HouseYear  Ecology_1  ...  Helthcare_2  Shops_1  Shops_2  \\\n",
       "0          10       2014   0.075424  ...            0        0        1   \n",
       "1           8       1966   0.118537  ...            1        0        1   \n",
       "2          17       1988   0.025609  ...            3        1        1   \n",
       "3          22       1977   0.007122  ...            0        1        1   \n",
       "4          16       1972   0.282798  ...            0        6        1   \n",
       "\n",
       "           Price  Rooms_outlier  HouseFloor_outlier  HouseYear_outlier  \\\n",
       "0  305018.871089              0                   0                  0   \n",
       "1  177734.553407              0                   0                  0   \n",
       "2  282078.720850              0                   0                  0   \n",
       "3  168106.007630              0                   0                  0   \n",
       "4  343995.102962              0                   0                  0   \n",
       "\n",
       "   LifeSquare_nan  Healthcare_1_nan  DistrictSize  \n",
       "0               1                 1           851  \n",
       "1               0                 0            78  \n",
       "2               0                 0           652  \n",
       "3               1                 1           652  \n",
       "4               0                 1            89  \n",
       "\n",
       "[5 rows x 26 columns]"
      ]
     },
     "execution_count": 5072,
     "metadata": {},
     "output_type": "execute_result"
    }
   ],
   "source": [
    "train_df = train_df.merge(district_size, on='DistrictId', how='left')\n",
    "train_df.head()"
   ]
  },
  {
   "cell_type": "markdown",
   "id": "f545ee8e",
   "metadata": {},
   "source": [
    "## Исследвания на этом датасете показали, что бинарные фичи (такие как большой/маленький район, площадь квартиры... не увеличивают точность предсказания. Поэтому не будем их добавлять. А в некоторых случаях они даже приводили к ее снижению."
   ]
  },
  {
   "cell_type": "markdown",
   "id": "f19db26c",
   "metadata": {},
   "source": [
    "# MedPriceByDistrict ( В итоге убрала из фичей, т.к. она вызывала бОльшее переобучение и худшее значение кросс-валидации."
   ]
  },
  {
   "cell_type": "code",
   "execution_count": 5073,
   "id": "e31ee74f",
   "metadata": {},
   "outputs": [
    {
     "data": {
      "text/html": [
       "<div>\n",
       "<style scoped>\n",
       "    .dataframe tbody tr th:only-of-type {\n",
       "        vertical-align: middle;\n",
       "    }\n",
       "\n",
       "    .dataframe tbody tr th {\n",
       "        vertical-align: top;\n",
       "    }\n",
       "\n",
       "    .dataframe thead th {\n",
       "        text-align: right;\n",
       "    }\n",
       "</style>\n",
       "<table border=\"1\" class=\"dataframe\">\n",
       "  <thead>\n",
       "    <tr style=\"text-align: right;\">\n",
       "      <th></th>\n",
       "      <th>DistrictId</th>\n",
       "      <th>Rooms</th>\n",
       "      <th>MedPriceByDistrict</th>\n",
       "    </tr>\n",
       "  </thead>\n",
       "  <tbody>\n",
       "    <tr>\n",
       "      <th>0</th>\n",
       "      <td>0</td>\n",
       "      <td>1</td>\n",
       "      <td>142799.434052</td>\n",
       "    </tr>\n",
       "    <tr>\n",
       "      <th>1</th>\n",
       "      <td>0</td>\n",
       "      <td>2</td>\n",
       "      <td>176210.812334</td>\n",
       "    </tr>\n",
       "    <tr>\n",
       "      <th>2</th>\n",
       "      <td>0</td>\n",
       "      <td>3</td>\n",
       "      <td>300610.359425</td>\n",
       "    </tr>\n",
       "    <tr>\n",
       "      <th>3</th>\n",
       "      <td>1</td>\n",
       "      <td>1</td>\n",
       "      <td>146735.671740</td>\n",
       "    </tr>\n",
       "    <tr>\n",
       "      <th>4</th>\n",
       "      <td>1</td>\n",
       "      <td>2</td>\n",
       "      <td>202666.310126</td>\n",
       "    </tr>\n",
       "  </tbody>\n",
       "</table>\n",
       "</div>"
      ],
      "text/plain": [
       "  DistrictId  Rooms  MedPriceByDistrict\n",
       "0          0      1       142799.434052\n",
       "1          0      2       176210.812334\n",
       "2          0      3       300610.359425\n",
       "3          1      1       146735.671740\n",
       "4          1      2       202666.310126"
      ]
     },
     "execution_count": 5073,
     "metadata": {},
     "output_type": "execute_result"
    }
   ],
   "source": [
    "med_price_by_district = train_df.groupby(['DistrictId', 'Rooms'], as_index=False).agg({'Price':'median'})\\\n",
    "                            .rename(columns={'Price':'MedPriceByDistrict'})\n",
    "\n",
    "med_price_by_district.head()"
   ]
  },
  {
   "cell_type": "markdown",
   "id": "dde38eb0",
   "metadata": {},
   "source": [
    "###### Видим, что с увеличением числа комнат цена растет. Значит можно добавить этот признак к датасету."
   ]
  },
  {
   "cell_type": "code",
   "execution_count": 5074,
   "id": "216e4b7e",
   "metadata": {},
   "outputs": [
    {
     "data": {
      "text/html": [
       "<div>\n",
       "<style scoped>\n",
       "    .dataframe tbody tr th:only-of-type {\n",
       "        vertical-align: middle;\n",
       "    }\n",
       "\n",
       "    .dataframe tbody tr th {\n",
       "        vertical-align: top;\n",
       "    }\n",
       "\n",
       "    .dataframe thead th {\n",
       "        text-align: right;\n",
       "    }\n",
       "</style>\n",
       "<table border=\"1\" class=\"dataframe\">\n",
       "  <thead>\n",
       "    <tr style=\"text-align: right;\">\n",
       "      <th></th>\n",
       "      <th>Id</th>\n",
       "      <th>DistrictId</th>\n",
       "      <th>Rooms</th>\n",
       "      <th>Square</th>\n",
       "      <th>LifeSquare</th>\n",
       "      <th>KitchenSquare</th>\n",
       "      <th>Floor</th>\n",
       "      <th>HouseFloor</th>\n",
       "      <th>HouseYear</th>\n",
       "      <th>Ecology_1</th>\n",
       "      <th>...</th>\n",
       "      <th>Shops_1</th>\n",
       "      <th>Shops_2</th>\n",
       "      <th>Price</th>\n",
       "      <th>Rooms_outlier</th>\n",
       "      <th>HouseFloor_outlier</th>\n",
       "      <th>HouseYear_outlier</th>\n",
       "      <th>LifeSquare_nan</th>\n",
       "      <th>Healthcare_1_nan</th>\n",
       "      <th>DistrictSize</th>\n",
       "      <th>MedPriceByDistrict</th>\n",
       "    </tr>\n",
       "  </thead>\n",
       "  <tbody>\n",
       "    <tr>\n",
       "      <th>0</th>\n",
       "      <td>11809</td>\n",
       "      <td>27</td>\n",
       "      <td>3</td>\n",
       "      <td>115.027311</td>\n",
       "      <td>102.027311</td>\n",
       "      <td>10.0</td>\n",
       "      <td>4</td>\n",
       "      <td>10</td>\n",
       "      <td>2014</td>\n",
       "      <td>0.075424</td>\n",
       "      <td>...</td>\n",
       "      <td>0</td>\n",
       "      <td>1</td>\n",
       "      <td>305018.871089</td>\n",
       "      <td>0</td>\n",
       "      <td>0</td>\n",
       "      <td>0</td>\n",
       "      <td>1</td>\n",
       "      <td>1</td>\n",
       "      <td>851</td>\n",
       "      <td>213530.788443</td>\n",
       "    </tr>\n",
       "    <tr>\n",
       "      <th>1</th>\n",
       "      <td>3013</td>\n",
       "      <td>22</td>\n",
       "      <td>1</td>\n",
       "      <td>39.832524</td>\n",
       "      <td>23.169223</td>\n",
       "      <td>8.0</td>\n",
       "      <td>7</td>\n",
       "      <td>8</td>\n",
       "      <td>1966</td>\n",
       "      <td>0.118537</td>\n",
       "      <td>...</td>\n",
       "      <td>0</td>\n",
       "      <td>1</td>\n",
       "      <td>177734.553407</td>\n",
       "      <td>0</td>\n",
       "      <td>0</td>\n",
       "      <td>0</td>\n",
       "      <td>0</td>\n",
       "      <td>0</td>\n",
       "      <td>78</td>\n",
       "      <td>146032.829834</td>\n",
       "    </tr>\n",
       "    <tr>\n",
       "      <th>2</th>\n",
       "      <td>8215</td>\n",
       "      <td>1</td>\n",
       "      <td>3</td>\n",
       "      <td>78.342215</td>\n",
       "      <td>47.671972</td>\n",
       "      <td>10.0</td>\n",
       "      <td>2</td>\n",
       "      <td>17</td>\n",
       "      <td>1988</td>\n",
       "      <td>0.025609</td>\n",
       "      <td>...</td>\n",
       "      <td>1</td>\n",
       "      <td>1</td>\n",
       "      <td>282078.720850</td>\n",
       "      <td>0</td>\n",
       "      <td>0</td>\n",
       "      <td>0</td>\n",
       "      <td>0</td>\n",
       "      <td>0</td>\n",
       "      <td>652</td>\n",
       "      <td>244005.272380</td>\n",
       "    </tr>\n",
       "    <tr>\n",
       "      <th>3</th>\n",
       "      <td>2352</td>\n",
       "      <td>1</td>\n",
       "      <td>1</td>\n",
       "      <td>40.409907</td>\n",
       "      <td>36.409907</td>\n",
       "      <td>1.0</td>\n",
       "      <td>10</td>\n",
       "      <td>22</td>\n",
       "      <td>1977</td>\n",
       "      <td>0.007122</td>\n",
       "      <td>...</td>\n",
       "      <td>1</td>\n",
       "      <td>1</td>\n",
       "      <td>168106.007630</td>\n",
       "      <td>0</td>\n",
       "      <td>0</td>\n",
       "      <td>0</td>\n",
       "      <td>1</td>\n",
       "      <td>1</td>\n",
       "      <td>652</td>\n",
       "      <td>146735.671740</td>\n",
       "    </tr>\n",
       "    <tr>\n",
       "      <th>4</th>\n",
       "      <td>13866</td>\n",
       "      <td>94</td>\n",
       "      <td>2</td>\n",
       "      <td>64.285067</td>\n",
       "      <td>38.562517</td>\n",
       "      <td>9.0</td>\n",
       "      <td>16</td>\n",
       "      <td>16</td>\n",
       "      <td>1972</td>\n",
       "      <td>0.282798</td>\n",
       "      <td>...</td>\n",
       "      <td>6</td>\n",
       "      <td>1</td>\n",
       "      <td>343995.102962</td>\n",
       "      <td>0</td>\n",
       "      <td>0</td>\n",
       "      <td>0</td>\n",
       "      <td>0</td>\n",
       "      <td>1</td>\n",
       "      <td>89</td>\n",
       "      <td>201584.441255</td>\n",
       "    </tr>\n",
       "  </tbody>\n",
       "</table>\n",
       "<p>5 rows × 27 columns</p>\n",
       "</div>"
      ],
      "text/plain": [
       "      Id DistrictId  Rooms      Square  LifeSquare  KitchenSquare  Floor  \\\n",
       "0  11809         27      3  115.027311  102.027311           10.0      4   \n",
       "1   3013         22      1   39.832524   23.169223            8.0      7   \n",
       "2   8215          1      3   78.342215   47.671972           10.0      2   \n",
       "3   2352          1      1   40.409907   36.409907            1.0     10   \n",
       "4  13866         94      2   64.285067   38.562517            9.0     16   \n",
       "\n",
       "   HouseFloor  HouseYear  Ecology_1  ...  Shops_1  Shops_2          Price  \\\n",
       "0          10       2014   0.075424  ...        0        1  305018.871089   \n",
       "1           8       1966   0.118537  ...        0        1  177734.553407   \n",
       "2          17       1988   0.025609  ...        1        1  282078.720850   \n",
       "3          22       1977   0.007122  ...        1        1  168106.007630   \n",
       "4          16       1972   0.282798  ...        6        1  343995.102962   \n",
       "\n",
       "   Rooms_outlier  HouseFloor_outlier  HouseYear_outlier  LifeSquare_nan  \\\n",
       "0              0                   0                  0               1   \n",
       "1              0                   0                  0               0   \n",
       "2              0                   0                  0               0   \n",
       "3              0                   0                  0               1   \n",
       "4              0                   0                  0               0   \n",
       "\n",
       "   Healthcare_1_nan  DistrictSize  MedPriceByDistrict  \n",
       "0                 1           851       213530.788443  \n",
       "1                 0            78       146032.829834  \n",
       "2                 0           652       244005.272380  \n",
       "3                 1           652       146735.671740  \n",
       "4                 1            89       201584.441255  \n",
       "\n",
       "[5 rows x 27 columns]"
      ]
     },
     "execution_count": 5074,
     "metadata": {},
     "output_type": "execute_result"
    }
   ],
   "source": [
    "train_df = train_df.merge(med_price_by_district, on=['DistrictId', 'Rooms'], how='left')\n",
    "train_df.head()"
   ]
  },
  {
   "cell_type": "code",
   "execution_count": null,
   "id": "45b141c4",
   "metadata": {},
   "outputs": [],
   "source": []
  },
  {
   "cell_type": "markdown",
   "id": "73a33935",
   "metadata": {},
   "source": [
    "# Теперь создадим функции, которые будут создавать новые фичи, т.к. это нужно делать в 3 датасетах (train, valid и test). \n"
   ]
  },
  {
   "cell_type": "code",
   "execution_count": 5075,
   "id": "2996666e",
   "metadata": {},
   "outputs": [],
   "source": [
    "def feature_generation(df):\n",
    "    \n",
    "# Ecology_2, Ecology_3, Shops_2\n",
    "    binary_to_numbers = {'A': 0, 'B': 1}\n",
    "    df['Ecology_2'] = df['Ecology_2'].replace(binary_to_numbers)\n",
    "    df['Ecology_3'] = df['Ecology_3'].replace(binary_to_numbers)\n",
    "    df['Shops_2'] = df['Shops_2'].replace(binary_to_numbers)\n",
    "    \n",
    "# DistrictID to DistrictSize\n",
    "    district_size = df['DistrictId'].value_counts().reset_index()\\\n",
    "                    .rename(columns={'index':'DistrictId', 'DistrictId':'DistrictSize'})\n",
    "    df = df.merge(district_size, on='DistrictId', how='left') \n",
    "\n",
    "    \n",
    "    return df\n"
   ]
  },
  {
   "cell_type": "code",
   "execution_count": 5076,
   "id": "8c16543c",
   "metadata": {},
   "outputs": [],
   "source": [
    "\n",
    "def target_encoding_generation(df, y=None):\n",
    "    if y is not None:\n",
    "    \n",
    "        df['Price'] = y.values\n",
    "            \n",
    "        med_price_by_district = df.groupby(['DistrictId', 'Rooms'], as_index=False).agg({'Price':'median'}) \\\n",
    "        .rename(columns={'Price':'MedPriceByDistrict'})\n",
    "      \n",
    "            \n",
    "        med_price_by_district_median = med_price_by_district['MedPriceByDistrict'].median()\n",
    "    \n",
    "        df = df.merge(med_price_by_district, on=['DistrictId', 'Rooms'], how='left')\n",
    "            \n",
    "        df['MedPriceByDistrict'].fillna(med_price_by_district_median, inplace=True)\n",
    "        \n",
    "        \n",
    "    if y is None:\n",
    "        X_train['Price'] = y_train.values\n",
    "        \n",
    "        med_price_by_district = X_train.groupby(['DistrictId', 'Rooms'], as_index=False).agg({'Price':'median'}) \\\n",
    "        .rename(columns={'Price':'MedPriceByDistrict'})\n",
    "      \n",
    "        med_price_by_district_median = med_price_by_district['MedPriceByDistrict'].median()\n",
    "        \n",
    "        df = df.merge(med_price_by_district, on=['DistrictId', 'Rooms'], how='left')\n",
    "            \n",
    "        df['MedPriceByDistrict'].fillna(med_price_by_district_median, inplace=True)\n",
    "    \n",
    "    return df\n"
   ]
  },
  {
   "cell_type": "markdown",
   "id": "64b274e3",
   "metadata": {},
   "source": [
    "# 5. Отбор признаков"
   ]
  },
  {
   "cell_type": "code",
   "execution_count": 5077,
   "id": "a9de98a2",
   "metadata": {
    "scrolled": true
   },
   "outputs": [
    {
     "data": {
      "text/plain": [
       "['Id',\n",
       " 'DistrictId',\n",
       " 'Rooms',\n",
       " 'Square',\n",
       " 'LifeSquare',\n",
       " 'KitchenSquare',\n",
       " 'Floor',\n",
       " 'HouseFloor',\n",
       " 'HouseYear',\n",
       " 'Ecology_1',\n",
       " 'Ecology_2',\n",
       " 'Ecology_3',\n",
       " 'Social_1',\n",
       " 'Social_2',\n",
       " 'Social_3',\n",
       " 'Healthcare_1',\n",
       " 'Helthcare_2',\n",
       " 'Shops_1',\n",
       " 'Shops_2',\n",
       " 'Price',\n",
       " 'Rooms_outlier',\n",
       " 'HouseFloor_outlier',\n",
       " 'HouseYear_outlier',\n",
       " 'LifeSquare_nan',\n",
       " 'Healthcare_1_nan',\n",
       " 'DistrictSize',\n",
       " 'MedPriceByDistrict']"
      ]
     },
     "execution_count": 5077,
     "metadata": {},
     "output_type": "execute_result"
    }
   ],
   "source": [
    "train_df.columns.tolist()"
   ]
  },
  {
   "cell_type": "code",
   "execution_count": 5078,
   "id": "955a96a1",
   "metadata": {},
   "outputs": [],
   "source": [
    "feature_names = ['Rooms', 'Square', \n",
    "                 'LifeSquare', 'KitchenSquare', 'Floor', 'HouseFloor', 'HouseYear',\n",
    "                 'Ecology_1', 'Ecology_2', 'Ecology_3', 'Social_1', 'Social_2', 'Social_3', 'Healthcare_1',\n",
    "                 'Helthcare_2', 'Shops_1', 'Shops_2']\n",
    "\n",
    "new_feature_names = ['Rooms_outlier', 'HouseFloor_outlier', \n",
    "                     #'MedPriceByDistrict'\n",
    "                     'HouseYear_outlier', 'LifeSquare_nan', 'DistrictSize']\n",
    "\n",
    "target_name = 'Price'"
   ]
  },
  {
   "cell_type": "markdown",
   "id": "0e452484",
   "metadata": {},
   "source": [
    "Убрали невещественные признаки."
   ]
  },
  {
   "cell_type": "markdown",
   "id": "6b985ff5",
   "metadata": {},
   "source": [
    "# 6. Разбиение на train, valid. Предобработка 3 датафреймов."
   ]
  },
  {
   "cell_type": "code",
   "execution_count": 5079,
   "id": "76da7fef",
   "metadata": {},
   "outputs": [],
   "source": [
    "train_df = pd.read_csv(\"train.csv\")\n",
    "test_df = pd.read_csv(\"test.csv\")\n",
    "\n",
    "X = train_df.drop(columns=target_name)\n",
    "y = train_df[target_name]"
   ]
  },
  {
   "cell_type": "code",
   "execution_count": 5080,
   "id": "6df40913",
   "metadata": {},
   "outputs": [],
   "source": [
    "X_train, X_valid, y_train, y_valid = train_test_split(X, y, test_size=0.33, shuffle=True, random_state=21)"
   ]
  },
  {
   "cell_type": "code",
   "execution_count": 5081,
   "id": "24bc69c5",
   "metadata": {},
   "outputs": [
    {
     "data": {
      "text/plain": [
       "((6700, 24), (3300, 24), (5000, 24))"
      ]
     },
     "execution_count": 5081,
     "metadata": {},
     "output_type": "execute_result"
    }
   ],
   "source": [
    "X_train = data_preprocessing(X_train)\n",
    "X_valid = data_preprocessing(X_valid)\n",
    "test_df = data_preprocessing(test_df)\n",
    "\n",
    "X_train.shape, X_valid.shape, test_df.shape"
   ]
  },
  {
   "cell_type": "code",
   "execution_count": 5082,
   "id": "1e740413",
   "metadata": {},
   "outputs": [
    {
     "data": {
      "text/plain": [
       "((6700, 25), (3300, 25), (5000, 25))"
      ]
     },
     "execution_count": 5082,
     "metadata": {},
     "output_type": "execute_result"
    }
   ],
   "source": [
    "X_train = feature_generation(X_train)\n",
    "X_valid = feature_generation(X_valid)\n",
    "test_df = feature_generation(test_df)\n",
    "\n",
    "X_train.shape, X_valid.shape, test_df.shape"
   ]
  },
  {
   "cell_type": "code",
   "execution_count": 5083,
   "id": "cbaf92bd",
   "metadata": {},
   "outputs": [
    {
     "data": {
      "text/plain": [
       "((6700, 26), (3300, 26), (5000, 26))"
      ]
     },
     "execution_count": 5083,
     "metadata": {},
     "output_type": "execute_result"
    }
   ],
   "source": [
    "X_train = target_encoding_generation(X_train, y_train)\n",
    "X_valid = target_encoding_generation(X_valid)\n",
    "test_df = target_encoding_generation(test_df)\n",
    "X_train.drop('Price', axis = 1, inplace = True)\n",
    "\n",
    "X_train.shape, X_valid.shape, test_df.shape"
   ]
  },
  {
   "cell_type": "code",
   "execution_count": 5084,
   "id": "e3f7ceac",
   "metadata": {},
   "outputs": [
    {
     "data": {
      "text/plain": [
       "Index(['Id', 'DistrictId', 'Rooms', 'Square', 'LifeSquare', 'KitchenSquare',\n",
       "       'Floor', 'HouseFloor', 'HouseYear', 'Ecology_1', 'Ecology_2',\n",
       "       'Ecology_3', 'Social_1', 'Social_2', 'Social_3', 'Healthcare_1',\n",
       "       'Helthcare_2', 'Shops_1', 'Shops_2', 'Rooms_outlier',\n",
       "       'HouseFloor_outlier', 'HouseYear_outlier', 'LifeSquare_nan',\n",
       "       'Healthcare_1_nan', 'DistrictSize', 'MedPriceByDistrict'],\n",
       "      dtype='object')"
      ]
     },
     "execution_count": 5084,
     "metadata": {},
     "output_type": "execute_result"
    }
   ],
   "source": [
    "X_train.columns"
   ]
  },
  {
   "cell_type": "markdown",
   "id": "3d48583b",
   "metadata": {},
   "source": [
    "###### Датафреймы заполнены данными. Оставим нужные признаки."
   ]
  },
  {
   "cell_type": "code",
   "execution_count": 5085,
   "id": "4c1156c9",
   "metadata": {},
   "outputs": [],
   "source": [
    "X_train = X_train[feature_names + new_feature_names]\n",
    "X_valid = X_valid[feature_names + new_feature_names]\n",
    "test_df = test_df[feature_names + new_feature_names]"
   ]
  },
  {
   "cell_type": "markdown",
   "id": "5d000887",
   "metadata": {},
   "source": [
    "###### Проверим нет ли пропусков в датасетах."
   ]
  },
  {
   "cell_type": "code",
   "execution_count": 5086,
   "id": "3ffd6892",
   "metadata": {},
   "outputs": [
    {
     "data": {
      "text/plain": [
       "(0, 0, 0)"
      ]
     },
     "execution_count": 5086,
     "metadata": {},
     "output_type": "execute_result"
    }
   ],
   "source": [
    "X_train.isna().sum().sum(), X_valid.isna().sum().sum(), test_df.isna().sum().sum()"
   ]
  },
  {
   "cell_type": "markdown",
   "id": "7ca7905c",
   "metadata": {},
   "source": [
    "# 7. Построение модели"
   ]
  },
  {
   "cell_type": "markdown",
   "id": "503e82b7",
   "metadata": {},
   "source": [
    "###### Сначала обучим тренировочную модель"
   ]
  },
  {
   "cell_type": "code",
   "execution_count": 5087,
   "id": "4ec3a246",
   "metadata": {},
   "outputs": [
    {
     "data": {
      "text/plain": [
       "RandomForestRegressor(max_depth=9, max_features=5, n_estimators=200,\n",
       "                      random_state=21)"
      ]
     },
     "execution_count": 5087,
     "metadata": {},
     "output_type": "execute_result"
    }
   ],
   "source": [
    "rf_model = RandomForestRegressor(random_state=21, criterion='mse', n_estimators = 200, max_depth = 9, max_features = 5)\n",
    "rf_model.fit(X_train, y_train)"
   ]
  },
  {
   "cell_type": "markdown",
   "id": "e99ab657",
   "metadata": {},
   "source": [
    "###### Предскажем цены на валидационном датасете и оценим качество."
   ]
  },
  {
   "cell_type": "code",
   "execution_count": 5088,
   "id": "6f21223e",
   "metadata": {},
   "outputs": [
    {
     "name": "stdout",
     "output_type": "stream",
     "text": [
      "Train R2:\t0.817\n",
      "Test R2:\t0.683\n"
     ]
    },
    {
     "data": {
      "image/png": "[encoded data removed]",
      "text/plain": [
       "<Figure size 1296x720 with 2 Axes>"
      ]
     },
     "metadata": {
      "needs_background": "light"
     },
     "output_type": "display_data"
    }
   ],
   "source": [
    "y_train_preds = rf_model.predict(X_train)\n",
    "y_test_preds = rf_model.predict(X_valid)\n",
    "\n",
    "evaluate_preds(y_train, y_train_preds, y_valid, y_test_preds)"
   ]
  },
  {
   "cell_type": "markdown",
   "id": "f9069ecd",
   "metadata": {},
   "source": [
    "#### Кросс-валидация"
   ]
  },
  {
   "cell_type": "code",
   "execution_count": 5089,
   "id": "33d093eb",
   "metadata": {},
   "outputs": [
    {
     "data": {
      "text/plain": [
       "array([0.72187132, 0.67124203, 0.71431508])"
      ]
     },
     "execution_count": 5089,
     "metadata": {},
     "output_type": "execute_result"
    }
   ],
   "source": [
    "cv_score = cross_val_score(rf_model, X_train, y_train, scoring='r2', cv=KFold(n_splits=3, shuffle=True, random_state=21))\n",
    "cv_score"
   ]
  },
  {
   "cell_type": "code",
   "execution_count": 5090,
   "id": "98bba2fa",
   "metadata": {},
   "outputs": [
    {
     "data": {
      "text/plain": [
       "0.7024761457557682"
      ]
     },
     "execution_count": 5090,
     "metadata": {},
     "output_type": "execute_result"
    }
   ],
   "source": [
    "cv_score.mean()"
   ]
  },
  {
   "cell_type": "markdown",
   "id": "3fefa747",
   "metadata": {},
   "source": [
    "### По нескольким признакам видно, что переобучения нет, т.к.: 1) Небольшой размах между Train R2 и Test R2 2) График валидационных предсказаний очень похож на тренировочний 3) и на кросс-валидации мы получили практически то же число по точности."
   ]
  },
  {
   "cell_type": "markdown",
   "id": "3f540b09",
   "metadata": {},
   "source": [
    "#### Важность признаков"
   ]
  },
  {
   "cell_type": "code",
   "execution_count": 5091,
   "id": "beb5f576",
   "metadata": {},
   "outputs": [
    {
     "data": {
      "text/html": [
       "<div>\n",
       "<style scoped>\n",
       "    .dataframe tbody tr th:only-of-type {\n",
       "        vertical-align: middle;\n",
       "    }\n",
       "\n",
       "    .dataframe tbody tr th {\n",
       "        vertical-align: top;\n",
       "    }\n",
       "\n",
       "    .dataframe thead th {\n",
       "        text-align: right;\n",
       "    }\n",
       "</style>\n",
       "<table border=\"1\" class=\"dataframe\">\n",
       "  <thead>\n",
       "    <tr style=\"text-align: right;\">\n",
       "      <th></th>\n",
       "      <th>feature_name</th>\n",
       "      <th>importance</th>\n",
       "    </tr>\n",
       "  </thead>\n",
       "  <tbody>\n",
       "    <tr>\n",
       "      <th>1</th>\n",
       "      <td>Square</td>\n",
       "      <td>2.675302e-01</td>\n",
       "    </tr>\n",
       "    <tr>\n",
       "      <th>0</th>\n",
       "      <td>Rooms</td>\n",
       "      <td>1.520978e-01</td>\n",
       "    </tr>\n",
       "    <tr>\n",
       "      <th>21</th>\n",
       "      <td>DistrictSize</td>\n",
       "      <td>1.108645e-01</td>\n",
       "    </tr>\n",
       "    <tr>\n",
       "      <th>2</th>\n",
       "      <td>LifeSquare</td>\n",
       "      <td>9.447361e-02</td>\n",
       "    </tr>\n",
       "    <tr>\n",
       "      <th>11</th>\n",
       "      <td>Social_2</td>\n",
       "      <td>5.994982e-02</td>\n",
       "    </tr>\n",
       "    <tr>\n",
       "      <th>10</th>\n",
       "      <td>Social_1</td>\n",
       "      <td>5.711134e-02</td>\n",
       "    </tr>\n",
       "    <tr>\n",
       "      <th>12</th>\n",
       "      <td>Social_3</td>\n",
       "      <td>5.176866e-02</td>\n",
       "    </tr>\n",
       "    <tr>\n",
       "      <th>3</th>\n",
       "      <td>KitchenSquare</td>\n",
       "      <td>3.668144e-02</td>\n",
       "    </tr>\n",
       "    <tr>\n",
       "      <th>6</th>\n",
       "      <td>HouseYear</td>\n",
       "      <td>3.106562e-02</td>\n",
       "    </tr>\n",
       "    <tr>\n",
       "      <th>7</th>\n",
       "      <td>Ecology_1</td>\n",
       "      <td>2.578423e-02</td>\n",
       "    </tr>\n",
       "    <tr>\n",
       "      <th>13</th>\n",
       "      <td>Healthcare_1</td>\n",
       "      <td>2.560475e-02</td>\n",
       "    </tr>\n",
       "    <tr>\n",
       "      <th>5</th>\n",
       "      <td>HouseFloor</td>\n",
       "      <td>2.407694e-02</td>\n",
       "    </tr>\n",
       "    <tr>\n",
       "      <th>15</th>\n",
       "      <td>Shops_1</td>\n",
       "      <td>2.228901e-02</td>\n",
       "    </tr>\n",
       "    <tr>\n",
       "      <th>14</th>\n",
       "      <td>Helthcare_2</td>\n",
       "      <td>1.821573e-02</td>\n",
       "    </tr>\n",
       "    <tr>\n",
       "      <th>4</th>\n",
       "      <td>Floor</td>\n",
       "      <td>1.522848e-02</td>\n",
       "    </tr>\n",
       "    <tr>\n",
       "      <th>20</th>\n",
       "      <td>LifeSquare_nan</td>\n",
       "      <td>3.540106e-03</td>\n",
       "    </tr>\n",
       "    <tr>\n",
       "      <th>18</th>\n",
       "      <td>HouseFloor_outlier</td>\n",
       "      <td>1.971507e-03</td>\n",
       "    </tr>\n",
       "    <tr>\n",
       "      <th>9</th>\n",
       "      <td>Ecology_3</td>\n",
       "      <td>8.791139e-04</td>\n",
       "    </tr>\n",
       "    <tr>\n",
       "      <th>16</th>\n",
       "      <td>Shops_2</td>\n",
       "      <td>5.927277e-04</td>\n",
       "    </tr>\n",
       "    <tr>\n",
       "      <th>17</th>\n",
       "      <td>Rooms_outlier</td>\n",
       "      <td>1.627172e-04</td>\n",
       "    </tr>\n",
       "    <tr>\n",
       "      <th>8</th>\n",
       "      <td>Ecology_2</td>\n",
       "      <td>1.114482e-04</td>\n",
       "    </tr>\n",
       "    <tr>\n",
       "      <th>19</th>\n",
       "      <td>HouseYear_outlier</td>\n",
       "      <td>1.750975e-07</td>\n",
       "    </tr>\n",
       "  </tbody>\n",
       "</table>\n",
       "</div>"
      ],
      "text/plain": [
       "          feature_name    importance\n",
       "1               Square  2.675302e-01\n",
       "0                Rooms  1.520978e-01\n",
       "21        DistrictSize  1.108645e-01\n",
       "2           LifeSquare  9.447361e-02\n",
       "11            Social_2  5.994982e-02\n",
       "10            Social_1  5.711134e-02\n",
       "12            Social_3  5.176866e-02\n",
       "3        KitchenSquare  3.668144e-02\n",
       "6            HouseYear  3.106562e-02\n",
       "7            Ecology_1  2.578423e-02\n",
       "13        Healthcare_1  2.560475e-02\n",
       "5           HouseFloor  2.407694e-02\n",
       "15             Shops_1  2.228901e-02\n",
       "14         Helthcare_2  1.821573e-02\n",
       "4                Floor  1.522848e-02\n",
       "20      LifeSquare_nan  3.540106e-03\n",
       "18  HouseFloor_outlier  1.971507e-03\n",
       "9            Ecology_3  8.791139e-04\n",
       "16             Shops_2  5.927277e-04\n",
       "17       Rooms_outlier  1.627172e-04\n",
       "8            Ecology_2  1.114482e-04\n",
       "19   HouseYear_outlier  1.750975e-07"
      ]
     },
     "execution_count": 5091,
     "metadata": {},
     "output_type": "execute_result"
    }
   ],
   "source": [
    "feature_importances = pd.DataFrame(zip(X_train.columns, rf_model.feature_importances_), \n",
    "                                   columns=['feature_name', 'importance'])\n",
    "\n",
    "feature_importances.sort_values(by='importance', ascending=False)"
   ]
  },
  {
   "cell_type": "markdown",
   "id": "12642629",
   "metadata": {},
   "source": [
    "#### Мы видим, что нет слишком важного признака (превышающего 50%), но есть малозначимый HouseYear_outlier, однако если его убрать, то точность падает на 0,01%. Не будем этого делать, т.к. признаков итак не слишком много."
   ]
  },
  {
   "cell_type": "markdown",
   "id": "d85b0b9c",
   "metadata": {},
   "source": [
    "# Произведем подбор оптимальных параметров для модели методом GridSearchCV"
   ]
  },
  {
   "cell_type": "code",
   "execution_count": 4994,
   "id": "3cfbdad6",
   "metadata": {},
   "outputs": [],
   "source": [
    "from sklearn.model_selection import GridSearchCV"
   ]
  },
  {
   "cell_type": "code",
   "execution_count": 4995,
   "id": "fa0438e9",
   "metadata": {},
   "outputs": [],
   "source": [
    "parameters = {'n_estimators': [150, 200, 250],\n",
    "             'max_features': np.arange(5, 9),\n",
    "             'max_depth': np.arange(5, 10)}"
   ]
  },
  {
   "cell_type": "code",
   "execution_count": 4996,
   "id": "170731f7",
   "metadata": {},
   "outputs": [],
   "source": [
    "clf = GridSearchCV(estimator=RandomForestRegressor(),\n",
    "                  param_grid=parameters,\n",
    "                  scoring='accuracy',\n",
    "                  cv=5)"
   ]
  },
  {
   "cell_type": "code",
   "execution_count": null,
   "id": "79942079",
   "metadata": {},
   "outputs": [],
   "source": [
    "clf.fit(X_train, y_train)"
   ]
  },
  {
   "cell_type": "code",
   "execution_count": null,
   "id": "60f9f343",
   "metadata": {},
   "outputs": [],
   "source": [
    "cv_results = pd.DataFrame(clf.cv_results_)"
   ]
  },
  {
   "cell_type": "code",
   "execution_count": null,
   "id": "8b7893c0",
   "metadata": {},
   "outputs": [],
   "source": [
    "cv_results"
   ]
  },
  {
   "cell_type": "markdown",
   "id": "8c3cb98e",
   "metadata": {},
   "source": [
    "### Модель выдала 60 различных комбинаций (расчет длится слишком долго, поэтому приведу результат), из них методом подбора я выбрала комбинацию, при которой выше точность и меньше переобучение\n",
    "- n_estimators:    200\n",
    "- max_depth':    9\n",
    "- max_features:    5"
   ]
  },
  {
   "cell_type": "markdown",
   "id": "02d2c688",
   "metadata": {},
   "source": [
    "# 8. Прогнозирование на тестовом датасете"
   ]
  },
  {
   "cell_type": "code",
   "execution_count": 5092,
   "id": "c4ce3d3d",
   "metadata": {},
   "outputs": [
    {
     "data": {
      "text/plain": [
       "(5000, 22)"
      ]
     },
     "execution_count": 5092,
     "metadata": {},
     "output_type": "execute_result"
    }
   ],
   "source": [
    "test_df.shape"
   ]
  },
  {
   "cell_type": "code",
   "execution_count": 5093,
   "id": "da8fbfcb",
   "metadata": {},
   "outputs": [
    {
     "data": {
      "text/html": [
       "<div>\n",
       "<style scoped>\n",
       "    .dataframe tbody tr th:only-of-type {\n",
       "        vertical-align: middle;\n",
       "    }\n",
       "\n",
       "    .dataframe tbody tr th {\n",
       "        vertical-align: top;\n",
       "    }\n",
       "\n",
       "    .dataframe thead th {\n",
       "        text-align: right;\n",
       "    }\n",
       "</style>\n",
       "<table border=\"1\" class=\"dataframe\">\n",
       "  <thead>\n",
       "    <tr style=\"text-align: right;\">\n",
       "      <th></th>\n",
       "      <th>Id</th>\n",
       "      <th>Price</th>\n",
       "    </tr>\n",
       "  </thead>\n",
       "  <tbody>\n",
       "    <tr>\n",
       "      <th>0</th>\n",
       "      <td>4567</td>\n",
       "      <td>200000.0</td>\n",
       "    </tr>\n",
       "    <tr>\n",
       "      <th>1</th>\n",
       "      <td>5925</td>\n",
       "      <td>200000.0</td>\n",
       "    </tr>\n",
       "    <tr>\n",
       "      <th>2</th>\n",
       "      <td>960</td>\n",
       "      <td>200000.0</td>\n",
       "    </tr>\n",
       "    <tr>\n",
       "      <th>3</th>\n",
       "      <td>3848</td>\n",
       "      <td>200000.0</td>\n",
       "    </tr>\n",
       "    <tr>\n",
       "      <th>4</th>\n",
       "      <td>746</td>\n",
       "      <td>200000.0</td>\n",
       "    </tr>\n",
       "  </tbody>\n",
       "</table>\n",
       "</div>"
      ],
      "text/plain": [
       "     Id     Price\n",
       "0  4567  200000.0\n",
       "1  5925  200000.0\n",
       "2   960  200000.0\n",
       "3  3848  200000.0\n",
       "4   746  200000.0"
      ]
     },
     "execution_count": 5093,
     "metadata": {},
     "output_type": "execute_result"
    }
   ],
   "source": [
    "submit = pd.read_csv('sample_submission.csv')\n",
    "submit.head()"
   ]
  },
  {
   "cell_type": "code",
   "execution_count": 5094,
   "id": "e059159e",
   "metadata": {},
   "outputs": [
    {
     "data": {
      "text/plain": [
       "array([160343.87783342, 129117.82405816, 157988.79356696, ...,\n",
       "       154612.29176752, 188917.24821492, 274038.37946708])"
      ]
     },
     "execution_count": 5094,
     "metadata": {},
     "output_type": "execute_result"
    }
   ],
   "source": [
    "predictions = rf_model.predict(test_df)\n",
    "predictions"
   ]
  },
  {
   "cell_type": "code",
   "execution_count": 5095,
   "id": "d9290fb5",
   "metadata": {},
   "outputs": [
    {
     "data": {
      "text/html": [
       "<div>\n",
       "<style scoped>\n",
       "    .dataframe tbody tr th:only-of-type {\n",
       "        vertical-align: middle;\n",
       "    }\n",
       "\n",
       "    .dataframe tbody tr th {\n",
       "        vertical-align: top;\n",
       "    }\n",
       "\n",
       "    .dataframe thead th {\n",
       "        text-align: right;\n",
       "    }\n",
       "</style>\n",
       "<table border=\"1\" class=\"dataframe\">\n",
       "  <thead>\n",
       "    <tr style=\"text-align: right;\">\n",
       "      <th></th>\n",
       "      <th>Id</th>\n",
       "      <th>Price</th>\n",
       "    </tr>\n",
       "  </thead>\n",
       "  <tbody>\n",
       "    <tr>\n",
       "      <th>0</th>\n",
       "      <td>4567</td>\n",
       "      <td>160343.877833</td>\n",
       "    </tr>\n",
       "    <tr>\n",
       "      <th>1</th>\n",
       "      <td>5925</td>\n",
       "      <td>129117.824058</td>\n",
       "    </tr>\n",
       "    <tr>\n",
       "      <th>2</th>\n",
       "      <td>960</td>\n",
       "      <td>157988.793567</td>\n",
       "    </tr>\n",
       "    <tr>\n",
       "      <th>3</th>\n",
       "      <td>3848</td>\n",
       "      <td>140579.185458</td>\n",
       "    </tr>\n",
       "    <tr>\n",
       "      <th>4</th>\n",
       "      <td>746</td>\n",
       "      <td>222514.045691</td>\n",
       "    </tr>\n",
       "  </tbody>\n",
       "</table>\n",
       "</div>"
      ],
      "text/plain": [
       "     Id          Price\n",
       "0  4567  160343.877833\n",
       "1  5925  129117.824058\n",
       "2   960  157988.793567\n",
       "3  3848  140579.185458\n",
       "4   746  222514.045691"
      ]
     },
     "execution_count": 5095,
     "metadata": {},
     "output_type": "execute_result"
    }
   ],
   "source": [
    "submit['Price'] = predictions\n",
    "submit.head()"
   ]
  },
  {
   "cell_type": "code",
   "execution_count": 5096,
   "id": "a88b7182",
   "metadata": {},
   "outputs": [],
   "source": [
    "submit.to_csv('rf_submit_Perova.csv', index=False)"
   ]
  },
  {
   "cell_type": "code",
   "execution_count": null,
   "id": "e279d483",
   "metadata": {},
   "outputs": [],
   "source": []
  }
 ],
 "metadata": {
  "kernelspec": {
   "display_name": "Python 3 (ipykernel)",
   "language": "python",
   "name": "python3"
  },
  "language_info": {
   "codemirror_mode": {
    "name": "ipython",
    "version": 3
   },
   "file_extension": ".py",
   "mimetype": "text/x-python",
   "name": "python",
   "nbconvert_exporter": "python",
   "pygments_lexer": "ipython3",
   "version": "3.9.6"
  }
 },
 "nbformat": 4,
 "nbformat_minor": 5
}
